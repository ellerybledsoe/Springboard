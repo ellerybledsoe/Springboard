{
  "nbformat": 4,
  "nbformat_minor": 0,
  "metadata": {
    "colab": {
      "name": "Austin Restaurant Inspections_Modeling",
      "provenance": [],
      "collapsed_sections": [],
      "authorship_tag": "ABX9TyNcvKbOdpEBnWgUncDvmTvP",
      "include_colab_link": true
    },
    "kernelspec": {
      "name": "python3",
      "display_name": "Python 3"
    },
    "language_info": {
      "name": "python"
    }
  },
  "cells": [
    {
      "cell_type": "markdown",
      "metadata": {
        "id": "view-in-github",
        "colab_type": "text"
      },
      "source": [
        "<a href=\"https://colab.research.google.com/github/ellerybledsoe/Springboard/blob/main/Austin_Restaurant_Inspections_Modeling.ipynb\" target=\"_parent\"><img src=\"https://colab.research.google.com/assets/colab-badge.svg\" alt=\"Open In Colab\"/></a>"
      ]
    },
    {
      "cell_type": "code",
      "metadata": {
        "id": "qOkYqgm2acyQ"
      },
      "source": [
        "import pandas as pd\n",
        "import numpy as np\n",
        "import json\n",
        "\n",
        "import matplotlib.pyplot as plt\n",
        "import seaborn as sns\n",
        "\n",
        "import tensorflow as tf\n",
        "from tensorflow.keras.models import Model\n",
        "from sklearn.model_selection import train_test_split\n",
        "from sklearn.preprocessing import MinMaxScaler, StandardScaler\n",
        "\n",
        "#from google.colab import files"
      ],
      "execution_count": 2,
      "outputs": []
    },
    {
      "cell_type": "code",
      "metadata": {
        "colab": {
          "base_uri": "https://localhost:8080/"
        },
        "id": "qG1_8v0e2Ac5",
        "outputId": "13fe5847-d154-44d5-b379-d216f6dc6c82"
      },
      "source": [
        "%ls"
      ],
      "execution_count": 3,
      "outputs": [
        {
          "output_type": "stream",
          "name": "stdout",
          "text": [
            "austin_restaurant_inspections_full_dataset_03.csv\n",
            "austin_restaurant_inspections_X_test.csv\n",
            "austin_restaurant_inspections_X_train.csv\n",
            "austin_restaurant_inspections_y_test.csv\n",
            "austin_restaurant_inspections_y_train.csv\n",
            "\u001b[0m\u001b[01;34msample_data\u001b[0m/\n"
          ]
        }
      ]
    },
    {
      "cell_type": "code",
      "metadata": {
        "id": "sGQdsHwU2ISs"
      },
      "source": [
        "# %pwd"
      ],
      "execution_count": 4,
      "outputs": []
    },
    {
      "cell_type": "code",
      "metadata": {
        "id": "qSXiqEg82WPZ"
      },
      "source": [
        "#%cd .."
      ],
      "execution_count": 5,
      "outputs": []
    },
    {
      "cell_type": "code",
      "metadata": {
        "id": "IgGCSSM9bc2P"
      },
      "source": [
        "full = pd.read_csv(\"/content/austin_restaurant_inspections_full_dataset_03.csv\")\n",
        "X_train_scaled = pd.read_csv('/content/austin_restaurant_inspections_X_train.csv')\n",
        "X_test_scaled = pd.read_csv('/content/austin_restaurant_inspections_X_test.csv')\n",
        "y_train = pd.read_csv('/content/austin_restaurant_inspections_y_train.csv')\n",
        "y_test = pd.read_csv('/content/austin_restaurant_inspections_y_test.csv')"
      ],
      "execution_count": 41,
      "outputs": []
    },
    {
      "cell_type": "code",
      "metadata": {
        "colab": {
          "base_uri": "https://localhost:8080/",
          "height": 241
        },
        "id": "sQmk8xte1hLK",
        "outputId": "585f74f4-2ce7-4bc0-d4e7-25a0efbd10be"
      },
      "source": [
        "X_train_scaled.head()"
      ],
      "execution_count": 42,
      "outputs": [
        {
          "output_type": "execute_result",
          "data": {
            "text/html": [
              "<div>\n",
              "<style scoped>\n",
              "    .dataframe tbody tr th:only-of-type {\n",
              "        vertical-align: middle;\n",
              "    }\n",
              "\n",
              "    .dataframe tbody tr th {\n",
              "        vertical-align: top;\n",
              "    }\n",
              "\n",
              "    .dataframe thead th {\n",
              "        text-align: right;\n",
              "    }\n",
              "</style>\n",
              "<table border=\"1\" class=\"dataframe\">\n",
              "  <thead>\n",
              "    <tr style=\"text-align: right;\">\n",
              "      <th></th>\n",
              "      <th>Unnamed: 0</th>\n",
              "      <th>review_length</th>\n",
              "      <th>review_word_count</th>\n",
              "      <th>oldest_score</th>\n",
              "      <th>newest_score</th>\n",
              "      <th>reviews_count</th>\n",
              "      <th>stars</th>\n",
              "      <th>useful_sum</th>\n",
              "      <th>stars_5.0_sum</th>\n",
              "      <th>cool_sum</th>\n",
              "      <th>RestaurantsPriceRange2</th>\n",
              "      <th>funny_sum</th>\n",
              "      <th>Restaurants</th>\n",
              "      <th>BusinessAcceptsCreditCards</th>\n",
              "      <th>Smoking_0</th>\n",
              "      <th>RestaurantsTakeOut</th>\n",
              "      <th>is_open</th>\n",
              "      <th>stars_4.0_sum</th>\n",
              "      <th>RestaurantsGoodForGroups</th>\n",
              "      <th>GoodForKids</th>\n",
              "      <th>BikeParking</th>\n",
              "      <th>lot</th>\n",
              "      <th>HasTV</th>\n",
              "      <th>RestaurantsDelivery</th>\n",
              "      <th>casual</th>\n",
              "      <th>NoiseLevel_u'average'</th>\n",
              "      <th>stars_1.0_sum</th>\n",
              "      <th>OutdoorSeating</th>\n",
              "      <th>lunch</th>\n",
              "      <th>Caters</th>\n",
              "      <th>Food</th>\n",
              "      <th>stars_3.0_sum</th>\n",
              "      <th>RestaurantsAttire_'casual'</th>\n",
              "      <th>RestaurantsAttire_u'casual'</th>\n",
              "      <th>dinner</th>\n",
              "      <th>WiFi_u'free'</th>\n",
              "      <th>WheelchairAccessible</th>\n",
              "      <th>stars_2.0_sum</th>\n",
              "      <th>HappyHour</th>\n",
              "      <th>classy</th>\n",
              "      <th>Alcohol_u'none'</th>\n",
              "      <th>RestaurantsTableService</th>\n",
              "      <th>street</th>\n",
              "      <th>RestaurantsReservations</th>\n",
              "      <th>Bars</th>\n",
              "      <th>WiFi_u'no'</th>\n",
              "      <th>Alcohol_u'full_bar'</th>\n",
              "      <th>Mexican</th>\n",
              "      <th>Nightlife</th>\n",
              "      <th>NoiseLevel_0</th>\n",
              "      <th>DogsAllowed</th>\n",
              "      <th>Breakfast &amp; Brunch</th>\n",
              "      <th>RestaurantsPriceRange_0.0</th>\n",
              "      <th>RestaurantsPriceRange_1.0</th>\n",
              "      <th>RestaurantsPriceRange_2.0</th>\n",
              "      <th>RestaurantsPriceRange_3.0</th>\n",
              "      <th>Score_LG</th>\n",
              "    </tr>\n",
              "  </thead>\n",
              "  <tbody>\n",
              "    <tr>\n",
              "      <th>0</th>\n",
              "      <td>4153</td>\n",
              "      <td>0.042165</td>\n",
              "      <td>0.043746</td>\n",
              "      <td>0.800000</td>\n",
              "      <td>0.277778</td>\n",
              "      <td>0.010256</td>\n",
              "      <td>0.375</td>\n",
              "      <td>0.004975</td>\n",
              "      <td>0.000000</td>\n",
              "      <td>0.000000</td>\n",
              "      <td>0.5</td>\n",
              "      <td>0.000</td>\n",
              "      <td>1.0</td>\n",
              "      <td>1.0</td>\n",
              "      <td>1</td>\n",
              "      <td>1.0</td>\n",
              "      <td>1.0</td>\n",
              "      <td>0.000000</td>\n",
              "      <td>1.0</td>\n",
              "      <td>1.0</td>\n",
              "      <td>1.0</td>\n",
              "      <td>1.0</td>\n",
              "      <td>1.0</td>\n",
              "      <td>1.0</td>\n",
              "      <td>1.0</td>\n",
              "      <td>1</td>\n",
              "      <td>0.030303</td>\n",
              "      <td>0.0</td>\n",
              "      <td>1.0</td>\n",
              "      <td>0.0</td>\n",
              "      <td>1.0</td>\n",
              "      <td>0.055556</td>\n",
              "      <td>1</td>\n",
              "      <td>0</td>\n",
              "      <td>0.0</td>\n",
              "      <td>0</td>\n",
              "      <td>0.0</td>\n",
              "      <td>0.000000</td>\n",
              "      <td>0.0</td>\n",
              "      <td>0.0</td>\n",
              "      <td>1</td>\n",
              "      <td>1.0</td>\n",
              "      <td>0.0</td>\n",
              "      <td>0.0</td>\n",
              "      <td>0.0</td>\n",
              "      <td>0</td>\n",
              "      <td>0</td>\n",
              "      <td>0.0</td>\n",
              "      <td>0.0</td>\n",
              "      <td>0</td>\n",
              "      <td>0.0</td>\n",
              "      <td>1.0</td>\n",
              "      <td>0</td>\n",
              "      <td>0</td>\n",
              "      <td>1</td>\n",
              "      <td>0</td>\n",
              "      <td>0.933333</td>\n",
              "    </tr>\n",
              "    <tr>\n",
              "      <th>1</th>\n",
              "      <td>2528</td>\n",
              "      <td>0.188831</td>\n",
              "      <td>0.180803</td>\n",
              "      <td>0.533333</td>\n",
              "      <td>0.611111</td>\n",
              "      <td>0.087179</td>\n",
              "      <td>0.750</td>\n",
              "      <td>0.039801</td>\n",
              "      <td>0.046053</td>\n",
              "      <td>0.037838</td>\n",
              "      <td>0.5</td>\n",
              "      <td>0.040</td>\n",
              "      <td>1.0</td>\n",
              "      <td>1.0</td>\n",
              "      <td>1</td>\n",
              "      <td>1.0</td>\n",
              "      <td>1.0</td>\n",
              "      <td>0.178571</td>\n",
              "      <td>1.0</td>\n",
              "      <td>1.0</td>\n",
              "      <td>1.0</td>\n",
              "      <td>0.0</td>\n",
              "      <td>0.0</td>\n",
              "      <td>0.0</td>\n",
              "      <td>1.0</td>\n",
              "      <td>1</td>\n",
              "      <td>0.090909</td>\n",
              "      <td>0.0</td>\n",
              "      <td>0.0</td>\n",
              "      <td>0.0</td>\n",
              "      <td>0.0</td>\n",
              "      <td>0.111111</td>\n",
              "      <td>1</td>\n",
              "      <td>0</td>\n",
              "      <td>0.0</td>\n",
              "      <td>1</td>\n",
              "      <td>0.0</td>\n",
              "      <td>0.000000</td>\n",
              "      <td>0.0</td>\n",
              "      <td>1.0</td>\n",
              "      <td>0</td>\n",
              "      <td>1.0</td>\n",
              "      <td>1.0</td>\n",
              "      <td>0.0</td>\n",
              "      <td>0.0</td>\n",
              "      <td>0</td>\n",
              "      <td>1</td>\n",
              "      <td>0.0</td>\n",
              "      <td>0.0</td>\n",
              "      <td>0</td>\n",
              "      <td>1.0</td>\n",
              "      <td>1.0</td>\n",
              "      <td>0</td>\n",
              "      <td>0</td>\n",
              "      <td>1</td>\n",
              "      <td>0</td>\n",
              "      <td>0.644444</td>\n",
              "    </tr>\n",
              "    <tr>\n",
              "      <th>2</th>\n",
              "      <td>5064</td>\n",
              "      <td>0.000000</td>\n",
              "      <td>0.000000</td>\n",
              "      <td>0.866667</td>\n",
              "      <td>0.805556</td>\n",
              "      <td>0.000000</td>\n",
              "      <td>0.500</td>\n",
              "      <td>0.000000</td>\n",
              "      <td>0.000000</td>\n",
              "      <td>0.000000</td>\n",
              "      <td>0.5</td>\n",
              "      <td>0.000</td>\n",
              "      <td>1.0</td>\n",
              "      <td>1.0</td>\n",
              "      <td>0</td>\n",
              "      <td>0.0</td>\n",
              "      <td>1.0</td>\n",
              "      <td>0.000000</td>\n",
              "      <td>1.0</td>\n",
              "      <td>0.0</td>\n",
              "      <td>1.0</td>\n",
              "      <td>0.0</td>\n",
              "      <td>1.0</td>\n",
              "      <td>0.0</td>\n",
              "      <td>0.0</td>\n",
              "      <td>0</td>\n",
              "      <td>0.000000</td>\n",
              "      <td>0.0</td>\n",
              "      <td>0.0</td>\n",
              "      <td>0.0</td>\n",
              "      <td>0.0</td>\n",
              "      <td>0.000000</td>\n",
              "      <td>0</td>\n",
              "      <td>0</td>\n",
              "      <td>0.0</td>\n",
              "      <td>1</td>\n",
              "      <td>1.0</td>\n",
              "      <td>0.000000</td>\n",
              "      <td>1.0</td>\n",
              "      <td>0.0</td>\n",
              "      <td>0</td>\n",
              "      <td>0.0</td>\n",
              "      <td>1.0</td>\n",
              "      <td>0.0</td>\n",
              "      <td>1.0</td>\n",
              "      <td>0</td>\n",
              "      <td>1</td>\n",
              "      <td>0.0</td>\n",
              "      <td>1.0</td>\n",
              "      <td>0</td>\n",
              "      <td>1.0</td>\n",
              "      <td>0.0</td>\n",
              "      <td>0</td>\n",
              "      <td>0</td>\n",
              "      <td>1</td>\n",
              "      <td>0</td>\n",
              "      <td>0.844444</td>\n",
              "    </tr>\n",
              "    <tr>\n",
              "      <th>3</th>\n",
              "      <td>4135</td>\n",
              "      <td>0.018644</td>\n",
              "      <td>0.016990</td>\n",
              "      <td>1.000000</td>\n",
              "      <td>0.722222</td>\n",
              "      <td>0.005128</td>\n",
              "      <td>0.750</td>\n",
              "      <td>0.000000</td>\n",
              "      <td>0.006579</td>\n",
              "      <td>0.000000</td>\n",
              "      <td>0.0</td>\n",
              "      <td>0.000</td>\n",
              "      <td>1.0</td>\n",
              "      <td>1.0</td>\n",
              "      <td>1</td>\n",
              "      <td>0.0</td>\n",
              "      <td>1.0</td>\n",
              "      <td>0.000000</td>\n",
              "      <td>0.0</td>\n",
              "      <td>0.0</td>\n",
              "      <td>0.0</td>\n",
              "      <td>0.0</td>\n",
              "      <td>0.0</td>\n",
              "      <td>0.0</td>\n",
              "      <td>0.0</td>\n",
              "      <td>1</td>\n",
              "      <td>0.000000</td>\n",
              "      <td>0.0</td>\n",
              "      <td>0.0</td>\n",
              "      <td>0.0</td>\n",
              "      <td>1.0</td>\n",
              "      <td>0.000000</td>\n",
              "      <td>0</td>\n",
              "      <td>0</td>\n",
              "      <td>0.0</td>\n",
              "      <td>0</td>\n",
              "      <td>0.0</td>\n",
              "      <td>0.000000</td>\n",
              "      <td>0.0</td>\n",
              "      <td>0.0</td>\n",
              "      <td>0</td>\n",
              "      <td>0.0</td>\n",
              "      <td>0.0</td>\n",
              "      <td>0.0</td>\n",
              "      <td>0.0</td>\n",
              "      <td>0</td>\n",
              "      <td>0</td>\n",
              "      <td>0.0</td>\n",
              "      <td>0.0</td>\n",
              "      <td>0</td>\n",
              "      <td>0.0</td>\n",
              "      <td>0.0</td>\n",
              "      <td>1</td>\n",
              "      <td>0</td>\n",
              "      <td>0</td>\n",
              "      <td>0</td>\n",
              "      <td>1.000000</td>\n",
              "    </tr>\n",
              "    <tr>\n",
              "      <th>4</th>\n",
              "      <td>723</td>\n",
              "      <td>0.279299</td>\n",
              "      <td>0.275184</td>\n",
              "      <td>0.822222</td>\n",
              "      <td>0.750000</td>\n",
              "      <td>0.179487</td>\n",
              "      <td>0.750</td>\n",
              "      <td>0.054726</td>\n",
              "      <td>0.118421</td>\n",
              "      <td>0.027027</td>\n",
              "      <td>0.5</td>\n",
              "      <td>0.024</td>\n",
              "      <td>1.0</td>\n",
              "      <td>1.0</td>\n",
              "      <td>1</td>\n",
              "      <td>1.0</td>\n",
              "      <td>1.0</td>\n",
              "      <td>0.250000</td>\n",
              "      <td>1.0</td>\n",
              "      <td>1.0</td>\n",
              "      <td>0.0</td>\n",
              "      <td>1.0</td>\n",
              "      <td>0.0</td>\n",
              "      <td>0.0</td>\n",
              "      <td>1.0</td>\n",
              "      <td>1</td>\n",
              "      <td>0.121212</td>\n",
              "      <td>1.0</td>\n",
              "      <td>0.0</td>\n",
              "      <td>0.0</td>\n",
              "      <td>0.0</td>\n",
              "      <td>0.222222</td>\n",
              "      <td>0</td>\n",
              "      <td>1</td>\n",
              "      <td>1.0</td>\n",
              "      <td>0</td>\n",
              "      <td>0.0</td>\n",
              "      <td>0.083333</td>\n",
              "      <td>1.0</td>\n",
              "      <td>0.0</td>\n",
              "      <td>0</td>\n",
              "      <td>1.0</td>\n",
              "      <td>1.0</td>\n",
              "      <td>1.0</td>\n",
              "      <td>0.0</td>\n",
              "      <td>1</td>\n",
              "      <td>0</td>\n",
              "      <td>0.0</td>\n",
              "      <td>0.0</td>\n",
              "      <td>0</td>\n",
              "      <td>0.0</td>\n",
              "      <td>0.0</td>\n",
              "      <td>0</td>\n",
              "      <td>0</td>\n",
              "      <td>1</td>\n",
              "      <td>0</td>\n",
              "      <td>0.822222</td>\n",
              "    </tr>\n",
              "  </tbody>\n",
              "</table>\n",
              "</div>"
            ],
            "text/plain": [
              "   Unnamed: 0  review_length  ...  RestaurantsPriceRange_3.0  Score_LG\n",
              "0        4153       0.042165  ...                          0  0.933333\n",
              "1        2528       0.188831  ...                          0  0.644444\n",
              "2        5064       0.000000  ...                          0  0.844444\n",
              "3        4135       0.018644  ...                          0  1.000000\n",
              "4         723       0.279299  ...                          0  0.822222\n",
              "\n",
              "[5 rows x 57 columns]"
            ]
          },
          "metadata": {},
          "execution_count": 42
        }
      ]
    },
    {
      "cell_type": "code",
      "metadata": {
        "colab": {
          "base_uri": "https://localhost:8080/"
        },
        "id": "HIhoU5ZBZmQL",
        "outputId": "ce9b934b-4ff5-4a92-d7a3-171f938c9a89"
      },
      "source": [
        "y_train.pass_fail_flag.value_counts(normalize=True)"
      ],
      "execution_count": 43,
      "outputs": [
        {
          "output_type": "execute_result",
          "data": {
            "text/plain": [
              "0    0.991414\n",
              "1    0.008586\n",
              "Name: pass_fail_flag, dtype: float64"
            ]
          },
          "metadata": {},
          "execution_count": 43
        }
      ]
    },
    {
      "cell_type": "code",
      "metadata": {
        "colab": {
          "base_uri": "https://localhost:8080/"
        },
        "id": "JDbUqHuTZv4R",
        "outputId": "299d5d1f-a1dd-4c25-c5d8-29788f3ff3f7"
      },
      "source": [
        "full.letter_grade.value_counts(normalize=True)"
      ],
      "execution_count": 44,
      "outputs": [
        {
          "output_type": "execute_result",
          "data": {
            "text/plain": [
              "A    0.582074\n",
              "B    0.315762\n",
              "C    0.093922\n",
              "F    0.008242\n",
              "Name: letter_grade, dtype: float64"
            ]
          },
          "metadata": {},
          "execution_count": 44
        }
      ]
    },
    {
      "cell_type": "code",
      "metadata": {
        "id": "fi6SPQ3DxgXN"
      },
      "source": [
        "y_train.drop(columns=['Unnamed: 0'], inplace = True)\n",
        "X_train_scaled.drop(columns=['Unnamed: 0','Score_LG','oldest_score','newest_score','is_open','RestaurantsPriceRange_0.0','Food'], inplace = True)\n",
        "y_test.drop(columns=['Unnamed: 0'], inplace = True)\n",
        "X_test_scaled.drop(columns=['Unnamed: 0','Score_LG','oldest_score','newest_score','is_open','RestaurantsPriceRange_0.0','Food'], inplace = True)"
      ],
      "execution_count": 45,
      "outputs": []
    },
    {
      "cell_type": "code",
      "metadata": {
        "colab": {
          "base_uri": "https://localhost:8080/"
        },
        "id": "-PmfGslGadKI",
        "outputId": "46240278-34b6-4f1b-b972-d29871e8f493"
      },
      "source": [
        "print(X_train_scaled.shape)\n",
        "print(y_train.shape)\n",
        "print(y_test.shape)\n",
        "\n",
        "train_scaled = pd.concat([y_train,X_train_scaled], axis=1)\n",
        "test_scaled = pd.concat([y_test,X_test_scaled], axis=1)\n",
        "\n",
        "print(train_scaled.shape)\n",
        "print(test_scaled.shape)"
      ],
      "execution_count": 46,
      "outputs": [
        {
          "output_type": "stream",
          "name": "stdout",
          "text": [
            "(4659, 50)\n",
            "(4659, 1)\n",
            "(1165, 1)\n",
            "(4659, 51)\n",
            "(1165, 51)\n"
          ]
        }
      ]
    },
    {
      "cell_type": "code",
      "metadata": {
        "colab": {
          "base_uri": "https://localhost:8080/"
        },
        "id": "LWvDGEdQeCD-",
        "outputId": "fed55c7f-0e73-4fae-e8c6-70fe393f6aff"
      },
      "source": [
        "print(train_scaled.columns)"
      ],
      "execution_count": 47,
      "outputs": [
        {
          "output_type": "stream",
          "name": "stdout",
          "text": [
            "Index(['pass_fail_flag', 'review_length', 'review_word_count', 'reviews_count',\n",
            "       'stars', 'useful_sum', 'stars_5.0_sum', 'cool_sum',\n",
            "       'RestaurantsPriceRange2', 'funny_sum', 'Restaurants',\n",
            "       'BusinessAcceptsCreditCards', 'Smoking_0', 'RestaurantsTakeOut',\n",
            "       'stars_4.0_sum', 'RestaurantsGoodForGroups', 'GoodForKids',\n",
            "       'BikeParking', 'lot', 'HasTV', 'RestaurantsDelivery', 'casual',\n",
            "       'NoiseLevel_u'average'', 'stars_1.0_sum', 'OutdoorSeating', 'lunch',\n",
            "       'Caters', 'stars_3.0_sum', 'RestaurantsAttire_'casual'',\n",
            "       'RestaurantsAttire_u'casual'', 'dinner', 'WiFi_u'free'',\n",
            "       'WheelchairAccessible', 'stars_2.0_sum', 'HappyHour', 'classy',\n",
            "       'Alcohol_u'none'', 'RestaurantsTableService', 'street',\n",
            "       'RestaurantsReservations', 'Bars', 'WiFi_u'no'', 'Alcohol_u'full_bar'',\n",
            "       'Mexican', 'Nightlife', 'NoiseLevel_0', 'DogsAllowed',\n",
            "       'Breakfast & Brunch', 'RestaurantsPriceRange_1.0',\n",
            "       'RestaurantsPriceRange_2.0', 'RestaurantsPriceRange_3.0'],\n",
            "      dtype='object')\n"
          ]
        }
      ]
    },
    {
      "cell_type": "code",
      "metadata": {
        "colab": {
          "base_uri": "https://localhost:8080/"
        },
        "id": "1ux-px9cv-Gf",
        "outputId": "5553585f-9698-4190-d119-bfa1d2797f8d"
      },
      "source": [
        "train_scaled.pass_fail_flag.value_counts(normalize=True)"
      ],
      "execution_count": 48,
      "outputs": [
        {
          "output_type": "execute_result",
          "data": {
            "text/plain": [
              "0    0.991414\n",
              "1    0.008586\n",
              "Name: pass_fail_flag, dtype: float64"
            ]
          },
          "metadata": {},
          "execution_count": 48
        }
      ]
    },
    {
      "cell_type": "code",
      "metadata": {
        "colab": {
          "base_uri": "https://localhost:8080/",
          "height": 117
        },
        "id": "aENAgV8yzF7h",
        "outputId": "bd7e4e41-4968-4bf1-a450-3e69042c054e"
      },
      "source": [
        "train_scaled.head(1)"
      ],
      "execution_count": 49,
      "outputs": [
        {
          "output_type": "execute_result",
          "data": {
            "text/html": [
              "<div>\n",
              "<style scoped>\n",
              "    .dataframe tbody tr th:only-of-type {\n",
              "        vertical-align: middle;\n",
              "    }\n",
              "\n",
              "    .dataframe tbody tr th {\n",
              "        vertical-align: top;\n",
              "    }\n",
              "\n",
              "    .dataframe thead th {\n",
              "        text-align: right;\n",
              "    }\n",
              "</style>\n",
              "<table border=\"1\" class=\"dataframe\">\n",
              "  <thead>\n",
              "    <tr style=\"text-align: right;\">\n",
              "      <th></th>\n",
              "      <th>pass_fail_flag</th>\n",
              "      <th>review_length</th>\n",
              "      <th>review_word_count</th>\n",
              "      <th>reviews_count</th>\n",
              "      <th>stars</th>\n",
              "      <th>useful_sum</th>\n",
              "      <th>stars_5.0_sum</th>\n",
              "      <th>cool_sum</th>\n",
              "      <th>RestaurantsPriceRange2</th>\n",
              "      <th>funny_sum</th>\n",
              "      <th>Restaurants</th>\n",
              "      <th>BusinessAcceptsCreditCards</th>\n",
              "      <th>Smoking_0</th>\n",
              "      <th>RestaurantsTakeOut</th>\n",
              "      <th>stars_4.0_sum</th>\n",
              "      <th>RestaurantsGoodForGroups</th>\n",
              "      <th>GoodForKids</th>\n",
              "      <th>BikeParking</th>\n",
              "      <th>lot</th>\n",
              "      <th>HasTV</th>\n",
              "      <th>RestaurantsDelivery</th>\n",
              "      <th>casual</th>\n",
              "      <th>NoiseLevel_u'average'</th>\n",
              "      <th>stars_1.0_sum</th>\n",
              "      <th>OutdoorSeating</th>\n",
              "      <th>lunch</th>\n",
              "      <th>Caters</th>\n",
              "      <th>stars_3.0_sum</th>\n",
              "      <th>RestaurantsAttire_'casual'</th>\n",
              "      <th>RestaurantsAttire_u'casual'</th>\n",
              "      <th>dinner</th>\n",
              "      <th>WiFi_u'free'</th>\n",
              "      <th>WheelchairAccessible</th>\n",
              "      <th>stars_2.0_sum</th>\n",
              "      <th>HappyHour</th>\n",
              "      <th>classy</th>\n",
              "      <th>Alcohol_u'none'</th>\n",
              "      <th>RestaurantsTableService</th>\n",
              "      <th>street</th>\n",
              "      <th>RestaurantsReservations</th>\n",
              "      <th>Bars</th>\n",
              "      <th>WiFi_u'no'</th>\n",
              "      <th>Alcohol_u'full_bar'</th>\n",
              "      <th>Mexican</th>\n",
              "      <th>Nightlife</th>\n",
              "      <th>NoiseLevel_0</th>\n",
              "      <th>DogsAllowed</th>\n",
              "      <th>Breakfast &amp; Brunch</th>\n",
              "      <th>RestaurantsPriceRange_1.0</th>\n",
              "      <th>RestaurantsPriceRange_2.0</th>\n",
              "      <th>RestaurantsPriceRange_3.0</th>\n",
              "    </tr>\n",
              "  </thead>\n",
              "  <tbody>\n",
              "    <tr>\n",
              "      <th>0</th>\n",
              "      <td>0</td>\n",
              "      <td>0.042165</td>\n",
              "      <td>0.043746</td>\n",
              "      <td>0.010256</td>\n",
              "      <td>0.375</td>\n",
              "      <td>0.004975</td>\n",
              "      <td>0.0</td>\n",
              "      <td>0.0</td>\n",
              "      <td>0.5</td>\n",
              "      <td>0.0</td>\n",
              "      <td>1.0</td>\n",
              "      <td>1.0</td>\n",
              "      <td>1</td>\n",
              "      <td>1.0</td>\n",
              "      <td>0.0</td>\n",
              "      <td>1.0</td>\n",
              "      <td>1.0</td>\n",
              "      <td>1.0</td>\n",
              "      <td>1.0</td>\n",
              "      <td>1.0</td>\n",
              "      <td>1.0</td>\n",
              "      <td>1.0</td>\n",
              "      <td>1</td>\n",
              "      <td>0.030303</td>\n",
              "      <td>0.0</td>\n",
              "      <td>1.0</td>\n",
              "      <td>0.0</td>\n",
              "      <td>0.055556</td>\n",
              "      <td>1</td>\n",
              "      <td>0</td>\n",
              "      <td>0.0</td>\n",
              "      <td>0</td>\n",
              "      <td>0.0</td>\n",
              "      <td>0.0</td>\n",
              "      <td>0.0</td>\n",
              "      <td>0.0</td>\n",
              "      <td>1</td>\n",
              "      <td>1.0</td>\n",
              "      <td>0.0</td>\n",
              "      <td>0.0</td>\n",
              "      <td>0.0</td>\n",
              "      <td>0</td>\n",
              "      <td>0</td>\n",
              "      <td>0.0</td>\n",
              "      <td>0.0</td>\n",
              "      <td>0</td>\n",
              "      <td>0.0</td>\n",
              "      <td>1.0</td>\n",
              "      <td>0</td>\n",
              "      <td>1</td>\n",
              "      <td>0</td>\n",
              "    </tr>\n",
              "  </tbody>\n",
              "</table>\n",
              "</div>"
            ],
            "text/plain": [
              "   pass_fail_flag  ...  RestaurantsPriceRange_3.0\n",
              "0               0  ...                          0\n",
              "\n",
              "[1 rows x 51 columns]"
            ]
          },
          "metadata": {},
          "execution_count": 49
        }
      ]
    },
    {
      "cell_type": "code",
      "metadata": {
        "id": "c03j7rSTyAoR"
      },
      "source": [
        "pass_train_data = train_scaled[train_scaled.pass_fail_flag == 0].iloc[:,1:]\n",
        "fail_train_data = train_scaled[train_scaled.pass_fail_flag == 1].iloc[:,1:]"
      ],
      "execution_count": 50,
      "outputs": []
    },
    {
      "cell_type": "code",
      "metadata": {
        "colab": {
          "base_uri": "https://localhost:8080/",
          "height": 241
        },
        "id": "DWB9QyOby9dW",
        "outputId": "52b7566b-b987-49eb-8592-ee5124251b13"
      },
      "source": [
        "fail_train_data.head()"
      ],
      "execution_count": 51,
      "outputs": [
        {
          "output_type": "execute_result",
          "data": {
            "text/html": [
              "<div>\n",
              "<style scoped>\n",
              "    .dataframe tbody tr th:only-of-type {\n",
              "        vertical-align: middle;\n",
              "    }\n",
              "\n",
              "    .dataframe tbody tr th {\n",
              "        vertical-align: top;\n",
              "    }\n",
              "\n",
              "    .dataframe thead th {\n",
              "        text-align: right;\n",
              "    }\n",
              "</style>\n",
              "<table border=\"1\" class=\"dataframe\">\n",
              "  <thead>\n",
              "    <tr style=\"text-align: right;\">\n",
              "      <th></th>\n",
              "      <th>review_length</th>\n",
              "      <th>review_word_count</th>\n",
              "      <th>reviews_count</th>\n",
              "      <th>stars</th>\n",
              "      <th>useful_sum</th>\n",
              "      <th>stars_5.0_sum</th>\n",
              "      <th>cool_sum</th>\n",
              "      <th>RestaurantsPriceRange2</th>\n",
              "      <th>funny_sum</th>\n",
              "      <th>Restaurants</th>\n",
              "      <th>BusinessAcceptsCreditCards</th>\n",
              "      <th>Smoking_0</th>\n",
              "      <th>RestaurantsTakeOut</th>\n",
              "      <th>stars_4.0_sum</th>\n",
              "      <th>RestaurantsGoodForGroups</th>\n",
              "      <th>GoodForKids</th>\n",
              "      <th>BikeParking</th>\n",
              "      <th>lot</th>\n",
              "      <th>HasTV</th>\n",
              "      <th>RestaurantsDelivery</th>\n",
              "      <th>casual</th>\n",
              "      <th>NoiseLevel_u'average'</th>\n",
              "      <th>stars_1.0_sum</th>\n",
              "      <th>OutdoorSeating</th>\n",
              "      <th>lunch</th>\n",
              "      <th>Caters</th>\n",
              "      <th>stars_3.0_sum</th>\n",
              "      <th>RestaurantsAttire_'casual'</th>\n",
              "      <th>RestaurantsAttire_u'casual'</th>\n",
              "      <th>dinner</th>\n",
              "      <th>WiFi_u'free'</th>\n",
              "      <th>WheelchairAccessible</th>\n",
              "      <th>stars_2.0_sum</th>\n",
              "      <th>HappyHour</th>\n",
              "      <th>classy</th>\n",
              "      <th>Alcohol_u'none'</th>\n",
              "      <th>RestaurantsTableService</th>\n",
              "      <th>street</th>\n",
              "      <th>RestaurantsReservations</th>\n",
              "      <th>Bars</th>\n",
              "      <th>WiFi_u'no'</th>\n",
              "      <th>Alcohol_u'full_bar'</th>\n",
              "      <th>Mexican</th>\n",
              "      <th>Nightlife</th>\n",
              "      <th>NoiseLevel_0</th>\n",
              "      <th>DogsAllowed</th>\n",
              "      <th>Breakfast &amp; Brunch</th>\n",
              "      <th>RestaurantsPriceRange_1.0</th>\n",
              "      <th>RestaurantsPriceRange_2.0</th>\n",
              "      <th>RestaurantsPriceRange_3.0</th>\n",
              "    </tr>\n",
              "  </thead>\n",
              "  <tbody>\n",
              "    <tr>\n",
              "      <th>9</th>\n",
              "      <td>0.039815</td>\n",
              "      <td>0.039331</td>\n",
              "      <td>0.046154</td>\n",
              "      <td>0.625</td>\n",
              "      <td>0.024876</td>\n",
              "      <td>0.019737</td>\n",
              "      <td>0.0</td>\n",
              "      <td>0.50</td>\n",
              "      <td>0.000</td>\n",
              "      <td>1.0</td>\n",
              "      <td>1.0</td>\n",
              "      <td>1</td>\n",
              "      <td>1.0</td>\n",
              "      <td>0.035714</td>\n",
              "      <td>1.0</td>\n",
              "      <td>1.0</td>\n",
              "      <td>1.0</td>\n",
              "      <td>1.0</td>\n",
              "      <td>0.0</td>\n",
              "      <td>1.0</td>\n",
              "      <td>1.0</td>\n",
              "      <td>1</td>\n",
              "      <td>0.121212</td>\n",
              "      <td>0.0</td>\n",
              "      <td>1.0</td>\n",
              "      <td>1.0</td>\n",
              "      <td>0.055556</td>\n",
              "      <td>0</td>\n",
              "      <td>1</td>\n",
              "      <td>1.0</td>\n",
              "      <td>1</td>\n",
              "      <td>0.0</td>\n",
              "      <td>0.000000</td>\n",
              "      <td>0.0</td>\n",
              "      <td>0.0</td>\n",
              "      <td>1</td>\n",
              "      <td>0.0</td>\n",
              "      <td>0.0</td>\n",
              "      <td>1.0</td>\n",
              "      <td>0.0</td>\n",
              "      <td>0</td>\n",
              "      <td>0</td>\n",
              "      <td>0.0</td>\n",
              "      <td>0.0</td>\n",
              "      <td>0</td>\n",
              "      <td>0.0</td>\n",
              "      <td>0.0</td>\n",
              "      <td>0</td>\n",
              "      <td>1</td>\n",
              "      <td>0</td>\n",
              "    </tr>\n",
              "    <tr>\n",
              "      <th>164</th>\n",
              "      <td>0.018076</td>\n",
              "      <td>0.017993</td>\n",
              "      <td>0.015385</td>\n",
              "      <td>0.625</td>\n",
              "      <td>0.014925</td>\n",
              "      <td>0.006579</td>\n",
              "      <td>0.0</td>\n",
              "      <td>0.25</td>\n",
              "      <td>0.008</td>\n",
              "      <td>1.0</td>\n",
              "      <td>1.0</td>\n",
              "      <td>1</td>\n",
              "      <td>1.0</td>\n",
              "      <td>0.000000</td>\n",
              "      <td>1.0</td>\n",
              "      <td>1.0</td>\n",
              "      <td>1.0</td>\n",
              "      <td>1.0</td>\n",
              "      <td>1.0</td>\n",
              "      <td>1.0</td>\n",
              "      <td>0.0</td>\n",
              "      <td>1</td>\n",
              "      <td>0.030303</td>\n",
              "      <td>1.0</td>\n",
              "      <td>1.0</td>\n",
              "      <td>1.0</td>\n",
              "      <td>0.000000</td>\n",
              "      <td>1</td>\n",
              "      <td>0</td>\n",
              "      <td>0.0</td>\n",
              "      <td>1</td>\n",
              "      <td>0.0</td>\n",
              "      <td>0.041667</td>\n",
              "      <td>1.0</td>\n",
              "      <td>0.0</td>\n",
              "      <td>0</td>\n",
              "      <td>0.0</td>\n",
              "      <td>1.0</td>\n",
              "      <td>1.0</td>\n",
              "      <td>1.0</td>\n",
              "      <td>0</td>\n",
              "      <td>1</td>\n",
              "      <td>1.0</td>\n",
              "      <td>1.0</td>\n",
              "      <td>0</td>\n",
              "      <td>0.0</td>\n",
              "      <td>0.0</td>\n",
              "      <td>1</td>\n",
              "      <td>0</td>\n",
              "      <td>0</td>\n",
              "    </tr>\n",
              "    <tr>\n",
              "      <th>296</th>\n",
              "      <td>0.010560</td>\n",
              "      <td>0.010702</td>\n",
              "      <td>0.010256</td>\n",
              "      <td>0.250</td>\n",
              "      <td>0.004975</td>\n",
              "      <td>0.000000</td>\n",
              "      <td>0.0</td>\n",
              "      <td>0.25</td>\n",
              "      <td>0.016</td>\n",
              "      <td>1.0</td>\n",
              "      <td>1.0</td>\n",
              "      <td>1</td>\n",
              "      <td>1.0</td>\n",
              "      <td>0.000000</td>\n",
              "      <td>1.0</td>\n",
              "      <td>1.0</td>\n",
              "      <td>0.0</td>\n",
              "      <td>1.0</td>\n",
              "      <td>1.0</td>\n",
              "      <td>1.0</td>\n",
              "      <td>0.0</td>\n",
              "      <td>0</td>\n",
              "      <td>0.030303</td>\n",
              "      <td>0.0</td>\n",
              "      <td>0.0</td>\n",
              "      <td>0.0</td>\n",
              "      <td>0.000000</td>\n",
              "      <td>0</td>\n",
              "      <td>1</td>\n",
              "      <td>0.0</td>\n",
              "      <td>0</td>\n",
              "      <td>0.0</td>\n",
              "      <td>0.041667</td>\n",
              "      <td>0.0</td>\n",
              "      <td>0.0</td>\n",
              "      <td>1</td>\n",
              "      <td>0.0</td>\n",
              "      <td>0.0</td>\n",
              "      <td>0.0</td>\n",
              "      <td>0.0</td>\n",
              "      <td>0</td>\n",
              "      <td>0</td>\n",
              "      <td>0.0</td>\n",
              "      <td>0.0</td>\n",
              "      <td>0</td>\n",
              "      <td>0.0</td>\n",
              "      <td>0.0</td>\n",
              "      <td>1</td>\n",
              "      <td>0</td>\n",
              "      <td>0</td>\n",
              "    </tr>\n",
              "    <tr>\n",
              "      <th>408</th>\n",
              "      <td>0.000000</td>\n",
              "      <td>0.000000</td>\n",
              "      <td>0.000000</td>\n",
              "      <td>0.500</td>\n",
              "      <td>0.000000</td>\n",
              "      <td>0.000000</td>\n",
              "      <td>0.0</td>\n",
              "      <td>0.50</td>\n",
              "      <td>0.000</td>\n",
              "      <td>1.0</td>\n",
              "      <td>1.0</td>\n",
              "      <td>1</td>\n",
              "      <td>1.0</td>\n",
              "      <td>0.000000</td>\n",
              "      <td>1.0</td>\n",
              "      <td>1.0</td>\n",
              "      <td>1.0</td>\n",
              "      <td>1.0</td>\n",
              "      <td>1.0</td>\n",
              "      <td>1.0</td>\n",
              "      <td>1.0</td>\n",
              "      <td>0</td>\n",
              "      <td>0.000000</td>\n",
              "      <td>1.0</td>\n",
              "      <td>1.0</td>\n",
              "      <td>0.0</td>\n",
              "      <td>0.000000</td>\n",
              "      <td>1</td>\n",
              "      <td>0</td>\n",
              "      <td>1.0</td>\n",
              "      <td>0</td>\n",
              "      <td>1.0</td>\n",
              "      <td>0.000000</td>\n",
              "      <td>1.0</td>\n",
              "      <td>0.0</td>\n",
              "      <td>0</td>\n",
              "      <td>0.0</td>\n",
              "      <td>0.0</td>\n",
              "      <td>1.0</td>\n",
              "      <td>1.0</td>\n",
              "      <td>1</td>\n",
              "      <td>0</td>\n",
              "      <td>0.0</td>\n",
              "      <td>0.0</td>\n",
              "      <td>0</td>\n",
              "      <td>0.0</td>\n",
              "      <td>0.0</td>\n",
              "      <td>0</td>\n",
              "      <td>1</td>\n",
              "      <td>0</td>\n",
              "    </tr>\n",
              "    <tr>\n",
              "      <th>482</th>\n",
              "      <td>0.000000</td>\n",
              "      <td>0.000000</td>\n",
              "      <td>0.000000</td>\n",
              "      <td>0.625</td>\n",
              "      <td>0.000000</td>\n",
              "      <td>0.000000</td>\n",
              "      <td>0.0</td>\n",
              "      <td>0.50</td>\n",
              "      <td>0.000</td>\n",
              "      <td>1.0</td>\n",
              "      <td>1.0</td>\n",
              "      <td>1</td>\n",
              "      <td>1.0</td>\n",
              "      <td>0.000000</td>\n",
              "      <td>1.0</td>\n",
              "      <td>1.0</td>\n",
              "      <td>1.0</td>\n",
              "      <td>1.0</td>\n",
              "      <td>1.0</td>\n",
              "      <td>1.0</td>\n",
              "      <td>1.0</td>\n",
              "      <td>1</td>\n",
              "      <td>0.000000</td>\n",
              "      <td>0.0</td>\n",
              "      <td>1.0</td>\n",
              "      <td>1.0</td>\n",
              "      <td>0.000000</td>\n",
              "      <td>0</td>\n",
              "      <td>1</td>\n",
              "      <td>1.0</td>\n",
              "      <td>1</td>\n",
              "      <td>0.0</td>\n",
              "      <td>0.000000</td>\n",
              "      <td>1.0</td>\n",
              "      <td>1.0</td>\n",
              "      <td>0</td>\n",
              "      <td>0.0</td>\n",
              "      <td>1.0</td>\n",
              "      <td>0.0</td>\n",
              "      <td>1.0</td>\n",
              "      <td>0</td>\n",
              "      <td>0</td>\n",
              "      <td>0.0</td>\n",
              "      <td>1.0</td>\n",
              "      <td>0</td>\n",
              "      <td>0.0</td>\n",
              "      <td>0.0</td>\n",
              "      <td>0</td>\n",
              "      <td>1</td>\n",
              "      <td>0</td>\n",
              "    </tr>\n",
              "  </tbody>\n",
              "</table>\n",
              "</div>"
            ],
            "text/plain": [
              "     review_length  ...  RestaurantsPriceRange_3.0\n",
              "9         0.039815  ...                          0\n",
              "164       0.018076  ...                          0\n",
              "296       0.010560  ...                          0\n",
              "408       0.000000  ...                          0\n",
              "482       0.000000  ...                          0\n",
              "\n",
              "[5 rows x 50 columns]"
            ]
          },
          "metadata": {},
          "execution_count": 51
        }
      ]
    },
    {
      "cell_type": "code",
      "metadata": {
        "id": "XD6l5cAFzAtI"
      },
      "source": [
        "pass_test_data = test_scaled[test_scaled.pass_fail_flag == 0].iloc[:,1:].reset_index(drop=True)\n",
        "fail_test_data = test_scaled[test_scaled.pass_fail_flag == 1].iloc[:,1:].reset_index(drop=True)"
      ],
      "execution_count": 52,
      "outputs": []
    },
    {
      "cell_type": "code",
      "metadata": {
        "colab": {
          "base_uri": "https://localhost:8080/"
        },
        "id": "yxXlSCGkPqbs",
        "outputId": "20126e50-ac39-499f-da36-11a331b55861"
      },
      "source": [
        "pass_train_data.shape"
      ],
      "execution_count": 53,
      "outputs": [
        {
          "output_type": "execute_result",
          "data": {
            "text/plain": [
              "(4619, 50)"
            ]
          },
          "metadata": {},
          "execution_count": 53
        }
      ]
    },
    {
      "cell_type": "code",
      "metadata": {
        "id": "lWkq6bTHzT1E"
      },
      "source": [
        "model = tf.keras.Sequential()\n",
        "model.add(tf.keras.layers.Dense(25, activation='relu'))\n",
        "model.add(tf.keras.layers.Dense(12, activation='relu'))\n",
        "model.add(tf.keras.layers.Dense(6, activation='relu'))\n",
        "model.add(tf.keras.layers.Dense(12, activation='relu'))\n",
        "model.add(tf.keras.layers.Dense(25, activation='relu'))\n",
        "model.add(tf.keras.layers.Dense(50, activation='sigmoid'))\n",
        "\n",
        "#https://www.youtube.com/watch?v=S31E-ftRfQI&list=PLbxRL2wtmn7rENj4iA3FC5VE4LNvIweqs&index=2"
      ],
      "execution_count": 54,
      "outputs": []
    },
    {
      "cell_type": "code",
      "metadata": {
        "id": "cECctgzCNGwq"
      },
      "source": [
        "class AutoEncoder(Model):\n",
        "  def __init__(self):\n",
        "    super(AutoEncoder, self).__init__()\n",
        "    self.encoder = tf.keras.Sequential([\n",
        "      tf.keras.layers.Dense(25,activation='relu'),\n",
        "      tf.keras.layers.Dense(12,activation='relu'),\n",
        "      tf.keras.layers.Dense(6,activation='relu')])\n",
        "    \n",
        "    self.decoder = tf.keras.Sequential([\n",
        "      tf.keras.layers.Dense(12,activation='relu'),\n",
        "      tf.keras.layers.Dense(25,activation='relu'),\n",
        "      tf.keras.layers.Dense(50,activation='sigmoid')])\n",
        "    \n",
        "  def call(self, x):\n",
        "    encoded = self.encoder(x)\n",
        "    decoded = self.decoder(encoded)\n",
        "    return decoded\n",
        "\n",
        "# https://www.youtube.com/watch?v=S31E-ftRfQI&list=PLbxRL2wtmn7rENj4iA3FC5VE4LNvIweqs&index=2"
      ],
      "execution_count": 112,
      "outputs": []
    },
    {
      "cell_type": "code",
      "metadata": {
        "id": "j08VPASEWata"
      },
      "source": [
        "model = AutoEncoder()\n",
        "early_stop = tf.keras.callbacks.EarlyStopping(monitor='val_loss', patience=2, mode='min')\n",
        "\n",
        "model.compile(optimizer='adam', loss='mean_squared_error')\n",
        "\n",
        "#https://www.datacamp.com/community/tutorials/autoencoder-keras-tutorial"
      ],
      "execution_count": 115,
      "outputs": []
    },
    {
      "cell_type": "code",
      "metadata": {
        "colab": {
          "base_uri": "https://localhost:8080/"
        },
        "id": "z8lmcJDWc1ko",
        "outputId": "e977a2f2-ae8b-4b68-8c23-8061ef08be4c"
      },
      "source": [
        "ae = model.fit(pass_train_data, pass_train_data,\n",
        "               epochs = 20,\n",
        "               batch_size = 100,\n",
        "               validation_data = (train_scaled.iloc[:,1:], train_scaled.iloc[:,1:]),\n",
        "               shuffle = True,\n",
        "               callbacks = [early_stop])"
      ],
      "execution_count": 116,
      "outputs": [
        {
          "output_type": "stream",
          "name": "stdout",
          "text": [
            "Epoch 1/20\n",
            "47/47 [==============================] - 1s 10ms/step - loss: 0.2128 - val_loss: 0.1740\n",
            "Epoch 2/20\n",
            "47/47 [==============================] - 0s 4ms/step - loss: 0.1509 - val_loss: 0.1377\n",
            "Epoch 3/20\n",
            "47/47 [==============================] - 0s 4ms/step - loss: 0.1355 - val_loss: 0.1334\n",
            "Epoch 4/20\n",
            "47/47 [==============================] - 0s 4ms/step - loss: 0.1310 - val_loss: 0.1269\n",
            "Epoch 5/20\n",
            "47/47 [==============================] - 0s 4ms/step - loss: 0.1213 - val_loss: 0.1152\n",
            "Epoch 6/20\n",
            "47/47 [==============================] - 0s 4ms/step - loss: 0.1099 - val_loss: 0.1032\n",
            "Epoch 7/20\n",
            "47/47 [==============================] - 0s 5ms/step - loss: 0.0984 - val_loss: 0.0949\n",
            "Epoch 8/20\n",
            "47/47 [==============================] - 0s 5ms/step - loss: 0.0935 - val_loss: 0.0920\n",
            "Epoch 9/20\n",
            "47/47 [==============================] - 0s 5ms/step - loss: 0.0910 - val_loss: 0.0895\n",
            "Epoch 10/20\n",
            "47/47 [==============================] - 0s 4ms/step - loss: 0.0886 - val_loss: 0.0873\n",
            "Epoch 11/20\n",
            "47/47 [==============================] - 0s 4ms/step - loss: 0.0867 - val_loss: 0.0857\n",
            "Epoch 12/20\n",
            "47/47 [==============================] - 0s 4ms/step - loss: 0.0853 - val_loss: 0.0845\n",
            "Epoch 13/20\n",
            "47/47 [==============================] - 0s 4ms/step - loss: 0.0842 - val_loss: 0.0835\n",
            "Epoch 14/20\n",
            "47/47 [==============================] - 0s 4ms/step - loss: 0.0833 - val_loss: 0.0828\n",
            "Epoch 15/20\n",
            "47/47 [==============================] - 0s 4ms/step - loss: 0.0827 - val_loss: 0.0821\n",
            "Epoch 16/20\n",
            "47/47 [==============================] - 0s 5ms/step - loss: 0.0818 - val_loss: 0.0814\n",
            "Epoch 17/20\n",
            "47/47 [==============================] - 0s 5ms/step - loss: 0.0811 - val_loss: 0.0811\n",
            "Epoch 18/20\n",
            "47/47 [==============================] - 0s 4ms/step - loss: 0.0805 - val_loss: 0.0799\n",
            "Epoch 19/20\n",
            "47/47 [==============================] - 0s 4ms/step - loss: 0.0799 - val_loss: 0.0797\n",
            "Epoch 20/20\n",
            "47/47 [==============================] - 0s 4ms/step - loss: 0.0794 - val_loss: 0.0791\n"
          ]
        }
      ]
    },
    {
      "cell_type": "code",
      "metadata": {
        "colab": {
          "base_uri": "https://localhost:8080/",
          "height": 241
        },
        "id": "_DUZicEWimdv",
        "outputId": "b35c992b-0c4e-4e2c-d2e2-daabd9796ceb"
      },
      "source": [
        "pass_test_data.head()"
      ],
      "execution_count": 96,
      "outputs": [
        {
          "output_type": "execute_result",
          "data": {
            "text/html": [
              "<div>\n",
              "<style scoped>\n",
              "    .dataframe tbody tr th:only-of-type {\n",
              "        vertical-align: middle;\n",
              "    }\n",
              "\n",
              "    .dataframe tbody tr th {\n",
              "        vertical-align: top;\n",
              "    }\n",
              "\n",
              "    .dataframe thead th {\n",
              "        text-align: right;\n",
              "    }\n",
              "</style>\n",
              "<table border=\"1\" class=\"dataframe\">\n",
              "  <thead>\n",
              "    <tr style=\"text-align: right;\">\n",
              "      <th></th>\n",
              "      <th>review_length</th>\n",
              "      <th>review_word_count</th>\n",
              "      <th>reviews_count</th>\n",
              "      <th>stars</th>\n",
              "      <th>useful_sum</th>\n",
              "      <th>stars_5.0_sum</th>\n",
              "      <th>cool_sum</th>\n",
              "      <th>RestaurantsPriceRange2</th>\n",
              "      <th>funny_sum</th>\n",
              "      <th>Restaurants</th>\n",
              "      <th>BusinessAcceptsCreditCards</th>\n",
              "      <th>Smoking_0</th>\n",
              "      <th>RestaurantsTakeOut</th>\n",
              "      <th>stars_4.0_sum</th>\n",
              "      <th>RestaurantsGoodForGroups</th>\n",
              "      <th>GoodForKids</th>\n",
              "      <th>BikeParking</th>\n",
              "      <th>lot</th>\n",
              "      <th>HasTV</th>\n",
              "      <th>RestaurantsDelivery</th>\n",
              "      <th>casual</th>\n",
              "      <th>NoiseLevel_u'average'</th>\n",
              "      <th>stars_1.0_sum</th>\n",
              "      <th>OutdoorSeating</th>\n",
              "      <th>lunch</th>\n",
              "      <th>Caters</th>\n",
              "      <th>stars_3.0_sum</th>\n",
              "      <th>RestaurantsAttire_'casual'</th>\n",
              "      <th>RestaurantsAttire_u'casual'</th>\n",
              "      <th>dinner</th>\n",
              "      <th>WiFi_u'free'</th>\n",
              "      <th>WheelchairAccessible</th>\n",
              "      <th>stars_2.0_sum</th>\n",
              "      <th>HappyHour</th>\n",
              "      <th>classy</th>\n",
              "      <th>Alcohol_u'none'</th>\n",
              "      <th>RestaurantsTableService</th>\n",
              "      <th>street</th>\n",
              "      <th>RestaurantsReservations</th>\n",
              "      <th>Bars</th>\n",
              "      <th>WiFi_u'no'</th>\n",
              "      <th>Alcohol_u'full_bar'</th>\n",
              "      <th>Mexican</th>\n",
              "      <th>Nightlife</th>\n",
              "      <th>NoiseLevel_0</th>\n",
              "      <th>DogsAllowed</th>\n",
              "      <th>Breakfast &amp; Brunch</th>\n",
              "      <th>RestaurantsPriceRange_1.0</th>\n",
              "      <th>RestaurantsPriceRange_2.0</th>\n",
              "      <th>RestaurantsPriceRange_3.0</th>\n",
              "    </tr>\n",
              "  </thead>\n",
              "  <tbody>\n",
              "    <tr>\n",
              "      <th>0</th>\n",
              "      <td>0.021689</td>\n",
              "      <td>0.020042</td>\n",
              "      <td>0.008065</td>\n",
              "      <td>0.571429</td>\n",
              "      <td>0.000000</td>\n",
              "      <td>0.005348</td>\n",
              "      <td>0.000000</td>\n",
              "      <td>0.25</td>\n",
              "      <td>0.000000</td>\n",
              "      <td>1.0</td>\n",
              "      <td>1.0</td>\n",
              "      <td>1</td>\n",
              "      <td>1.0</td>\n",
              "      <td>0.022222</td>\n",
              "      <td>1.0</td>\n",
              "      <td>1.0</td>\n",
              "      <td>1.0</td>\n",
              "      <td>1.0</td>\n",
              "      <td>0.0</td>\n",
              "      <td>0.0</td>\n",
              "      <td>1.0</td>\n",
              "      <td>1</td>\n",
              "      <td>0.000000</td>\n",
              "      <td>1.0</td>\n",
              "      <td>1.0</td>\n",
              "      <td>0.0</td>\n",
              "      <td>0.0</td>\n",
              "      <td>1</td>\n",
              "      <td>0</td>\n",
              "      <td>0.0</td>\n",
              "      <td>0</td>\n",
              "      <td>0.0</td>\n",
              "      <td>0.0</td>\n",
              "      <td>0.0</td>\n",
              "      <td>0.0</td>\n",
              "      <td>1</td>\n",
              "      <td>1.0</td>\n",
              "      <td>1.0</td>\n",
              "      <td>0.0</td>\n",
              "      <td>1.0</td>\n",
              "      <td>0</td>\n",
              "      <td>0</td>\n",
              "      <td>0.0</td>\n",
              "      <td>1.0</td>\n",
              "      <td>0</td>\n",
              "      <td>0.0</td>\n",
              "      <td>1.0</td>\n",
              "      <td>1</td>\n",
              "      <td>0</td>\n",
              "      <td>0</td>\n",
              "    </tr>\n",
              "    <tr>\n",
              "      <th>1</th>\n",
              "      <td>0.030766</td>\n",
              "      <td>0.029896</td>\n",
              "      <td>0.008065</td>\n",
              "      <td>0.428571</td>\n",
              "      <td>0.000000</td>\n",
              "      <td>0.000000</td>\n",
              "      <td>0.000000</td>\n",
              "      <td>0.25</td>\n",
              "      <td>0.000000</td>\n",
              "      <td>1.0</td>\n",
              "      <td>1.0</td>\n",
              "      <td>1</td>\n",
              "      <td>1.0</td>\n",
              "      <td>0.022222</td>\n",
              "      <td>0.0</td>\n",
              "      <td>0.0</td>\n",
              "      <td>1.0</td>\n",
              "      <td>1.0</td>\n",
              "      <td>0.0</td>\n",
              "      <td>1.0</td>\n",
              "      <td>0.0</td>\n",
              "      <td>0</td>\n",
              "      <td>0.035714</td>\n",
              "      <td>0.0</td>\n",
              "      <td>0.0</td>\n",
              "      <td>1.0</td>\n",
              "      <td>0.0</td>\n",
              "      <td>0</td>\n",
              "      <td>0</td>\n",
              "      <td>0.0</td>\n",
              "      <td>0</td>\n",
              "      <td>0.0</td>\n",
              "      <td>0.0</td>\n",
              "      <td>0.0</td>\n",
              "      <td>0.0</td>\n",
              "      <td>0</td>\n",
              "      <td>0.0</td>\n",
              "      <td>0.0</td>\n",
              "      <td>0.0</td>\n",
              "      <td>0.0</td>\n",
              "      <td>0</td>\n",
              "      <td>0</td>\n",
              "      <td>0.0</td>\n",
              "      <td>0.0</td>\n",
              "      <td>1</td>\n",
              "      <td>0.0</td>\n",
              "      <td>0.0</td>\n",
              "      <td>1</td>\n",
              "      <td>0</td>\n",
              "      <td>0</td>\n",
              "    </tr>\n",
              "    <tr>\n",
              "      <th>2</th>\n",
              "      <td>0.044780</td>\n",
              "      <td>0.041587</td>\n",
              "      <td>0.020161</td>\n",
              "      <td>0.714286</td>\n",
              "      <td>0.033898</td>\n",
              "      <td>0.021390</td>\n",
              "      <td>0.029557</td>\n",
              "      <td>0.50</td>\n",
              "      <td>0.034247</td>\n",
              "      <td>1.0</td>\n",
              "      <td>1.0</td>\n",
              "      <td>1</td>\n",
              "      <td>1.0</td>\n",
              "      <td>0.022222</td>\n",
              "      <td>1.0</td>\n",
              "      <td>1.0</td>\n",
              "      <td>1.0</td>\n",
              "      <td>1.0</td>\n",
              "      <td>1.0</td>\n",
              "      <td>0.0</td>\n",
              "      <td>1.0</td>\n",
              "      <td>1</td>\n",
              "      <td>0.000000</td>\n",
              "      <td>1.0</td>\n",
              "      <td>1.0</td>\n",
              "      <td>1.0</td>\n",
              "      <td>0.0</td>\n",
              "      <td>0</td>\n",
              "      <td>1</td>\n",
              "      <td>1.0</td>\n",
              "      <td>0</td>\n",
              "      <td>0.0</td>\n",
              "      <td>0.0</td>\n",
              "      <td>0.0</td>\n",
              "      <td>0.0</td>\n",
              "      <td>0</td>\n",
              "      <td>1.0</td>\n",
              "      <td>0.0</td>\n",
              "      <td>1.0</td>\n",
              "      <td>0.0</td>\n",
              "      <td>0</td>\n",
              "      <td>1</td>\n",
              "      <td>0.0</td>\n",
              "      <td>0.0</td>\n",
              "      <td>0</td>\n",
              "      <td>1.0</td>\n",
              "      <td>0.0</td>\n",
              "      <td>0</td>\n",
              "      <td>1</td>\n",
              "      <td>0</td>\n",
              "    </tr>\n",
              "    <tr>\n",
              "      <th>3</th>\n",
              "      <td>0.008249</td>\n",
              "      <td>0.007516</td>\n",
              "      <td>0.004032</td>\n",
              "      <td>0.571429</td>\n",
              "      <td>0.000000</td>\n",
              "      <td>0.005348</td>\n",
              "      <td>0.000000</td>\n",
              "      <td>0.25</td>\n",
              "      <td>0.000000</td>\n",
              "      <td>1.0</td>\n",
              "      <td>1.0</td>\n",
              "      <td>1</td>\n",
              "      <td>1.0</td>\n",
              "      <td>0.000000</td>\n",
              "      <td>1.0</td>\n",
              "      <td>1.0</td>\n",
              "      <td>1.0</td>\n",
              "      <td>1.0</td>\n",
              "      <td>1.0</td>\n",
              "      <td>0.0</td>\n",
              "      <td>1.0</td>\n",
              "      <td>1</td>\n",
              "      <td>0.000000</td>\n",
              "      <td>1.0</td>\n",
              "      <td>1.0</td>\n",
              "      <td>1.0</td>\n",
              "      <td>0.0</td>\n",
              "      <td>1</td>\n",
              "      <td>0</td>\n",
              "      <td>0.0</td>\n",
              "      <td>0</td>\n",
              "      <td>0.0</td>\n",
              "      <td>0.0</td>\n",
              "      <td>0.0</td>\n",
              "      <td>0.0</td>\n",
              "      <td>1</td>\n",
              "      <td>0.0</td>\n",
              "      <td>0.0</td>\n",
              "      <td>0.0</td>\n",
              "      <td>0.0</td>\n",
              "      <td>0</td>\n",
              "      <td>0</td>\n",
              "      <td>1.0</td>\n",
              "      <td>0.0</td>\n",
              "      <td>0</td>\n",
              "      <td>0.0</td>\n",
              "      <td>0.0</td>\n",
              "      <td>1</td>\n",
              "      <td>0</td>\n",
              "      <td>0</td>\n",
              "    </tr>\n",
              "    <tr>\n",
              "      <th>4</th>\n",
              "      <td>0.000000</td>\n",
              "      <td>0.000000</td>\n",
              "      <td>0.000000</td>\n",
              "      <td>0.428571</td>\n",
              "      <td>0.000000</td>\n",
              "      <td>0.000000</td>\n",
              "      <td>0.000000</td>\n",
              "      <td>0.25</td>\n",
              "      <td>0.000000</td>\n",
              "      <td>1.0</td>\n",
              "      <td>1.0</td>\n",
              "      <td>1</td>\n",
              "      <td>1.0</td>\n",
              "      <td>0.000000</td>\n",
              "      <td>1.0</td>\n",
              "      <td>1.0</td>\n",
              "      <td>1.0</td>\n",
              "      <td>1.0</td>\n",
              "      <td>1.0</td>\n",
              "      <td>1.0</td>\n",
              "      <td>0.0</td>\n",
              "      <td>0</td>\n",
              "      <td>0.000000</td>\n",
              "      <td>0.0</td>\n",
              "      <td>0.0</td>\n",
              "      <td>0.0</td>\n",
              "      <td>0.0</td>\n",
              "      <td>1</td>\n",
              "      <td>0</td>\n",
              "      <td>0.0</td>\n",
              "      <td>0</td>\n",
              "      <td>0.0</td>\n",
              "      <td>0.0</td>\n",
              "      <td>0.0</td>\n",
              "      <td>0.0</td>\n",
              "      <td>0</td>\n",
              "      <td>0.0</td>\n",
              "      <td>0.0</td>\n",
              "      <td>0.0</td>\n",
              "      <td>0.0</td>\n",
              "      <td>0</td>\n",
              "      <td>0</td>\n",
              "      <td>0.0</td>\n",
              "      <td>0.0</td>\n",
              "      <td>0</td>\n",
              "      <td>0.0</td>\n",
              "      <td>0.0</td>\n",
              "      <td>1</td>\n",
              "      <td>0</td>\n",
              "      <td>0</td>\n",
              "    </tr>\n",
              "  </tbody>\n",
              "</table>\n",
              "</div>"
            ],
            "text/plain": [
              "   review_length  ...  RestaurantsPriceRange_3.0\n",
              "0       0.021689  ...                          0\n",
              "1       0.030766  ...                          0\n",
              "2       0.044780  ...                          0\n",
              "3       0.008249  ...                          0\n",
              "4       0.000000  ...                          0\n",
              "\n",
              "[5 rows x 50 columns]"
            ]
          },
          "metadata": {},
          "execution_count": 96
        }
      ]
    },
    {
      "cell_type": "code",
      "metadata": {
        "colab": {
          "base_uri": "https://localhost:8080/"
        },
        "id": "ThDeeSj6ka0V",
        "outputId": "74fdf397-a495-4524-c45f-db605ecb5f5d"
      },
      "source": [
        "pass_test_data.dtypes"
      ],
      "execution_count": 98,
      "outputs": [
        {
          "output_type": "execute_result",
          "data": {
            "text/plain": [
              "review_length                  float64\n",
              "review_word_count              float64\n",
              "reviews_count                  float64\n",
              "stars                          float64\n",
              "useful_sum                     float64\n",
              "stars_5.0_sum                  float64\n",
              "cool_sum                       float64\n",
              "RestaurantsPriceRange2         float64\n",
              "funny_sum                      float64\n",
              "Restaurants                    float64\n",
              "BusinessAcceptsCreditCards     float64\n",
              "Smoking_0                        int64\n",
              "RestaurantsTakeOut             float64\n",
              "stars_4.0_sum                  float64\n",
              "RestaurantsGoodForGroups       float64\n",
              "GoodForKids                    float64\n",
              "BikeParking                    float64\n",
              "lot                            float64\n",
              "HasTV                          float64\n",
              "RestaurantsDelivery            float64\n",
              "casual                         float64\n",
              "NoiseLevel_u'average'            int64\n",
              "stars_1.0_sum                  float64\n",
              "OutdoorSeating                 float64\n",
              "lunch                          float64\n",
              "Caters                         float64\n",
              "stars_3.0_sum                  float64\n",
              "RestaurantsAttire_'casual'       int64\n",
              "RestaurantsAttire_u'casual'      int64\n",
              "dinner                         float64\n",
              "WiFi_u'free'                     int64\n",
              "WheelchairAccessible           float64\n",
              "stars_2.0_sum                  float64\n",
              "HappyHour                      float64\n",
              "classy                         float64\n",
              "Alcohol_u'none'                  int64\n",
              "RestaurantsTableService        float64\n",
              "street                         float64\n",
              "RestaurantsReservations        float64\n",
              "Bars                           float64\n",
              "WiFi_u'no'                       int64\n",
              "Alcohol_u'full_bar'              int64\n",
              "Mexican                        float64\n",
              "Nightlife                      float64\n",
              "NoiseLevel_0                     int64\n",
              "DogsAllowed                    float64\n",
              "Breakfast & Brunch             float64\n",
              "RestaurantsPriceRange_1.0        int64\n",
              "RestaurantsPriceRange_2.0        int64\n",
              "RestaurantsPriceRange_3.0        int64\n",
              "dtype: object"
            ]
          },
          "metadata": {},
          "execution_count": 98
        }
      ]
    },
    {
      "cell_type": "code",
      "metadata": {
        "id": "TcCf_ZBnlDFp"
      },
      "source": [
        "#pass_test_data[pass_test_data.isna().any(axis=1)]\n",
        "#pass_train_data.to_numpy()"
      ],
      "execution_count": 122,
      "outputs": []
    },
    {
      "cell_type": "code",
      "metadata": {
        "id": "IiJbZURVeOjR"
      },
      "source": [
        "encoder_out = model.encoder(pass_train_data.to_numpy())\n",
        "decoder_out = model.decoder(encoder_out)"
      ],
      "execution_count": 121,
      "outputs": []
    },
    {
      "cell_type": "code",
      "metadata": {
        "colab": {
          "base_uri": "https://localhost:8080/"
        },
        "id": "oYlnesxRiW3V",
        "outputId": "fe388794-c4bd-4df6-e8d5-d74c385b86b3"
      },
      "source": [
        "print(encoder_out.shape)\n",
        "print(decoder_out.shape)"
      ],
      "execution_count": 125,
      "outputs": [
        {
          "output_type": "stream",
          "name": "stdout",
          "text": [
            "(4619, 6)\n",
            "(4619, 50)\n"
          ]
        }
      ]
    },
    {
      "cell_type": "code",
      "metadata": {
        "colab": {
          "base_uri": "https://localhost:8080/",
          "height": 283
        },
        "id": "Z58bqPdcq9OK",
        "outputId": "d0dede06-8a0c-4e96-9a49-37455337efe4"
      },
      "source": [
        "plt.plot(pass_test_data.iloc[0],'b')\n",
        "plt.plot(decoder_out[0],'r')"
      ],
      "execution_count": 127,
      "outputs": [
        {
          "output_type": "execute_result",
          "data": {
            "text/plain": [
              "[<matplotlib.lines.Line2D at 0x7f29b1774e50>]"
            ]
          },
          "metadata": {},
          "execution_count": 127
        },
        {
          "output_type": "display_data",
          "data": {
            "image/png": "[encoded data removed]",
            "text/plain": [
              "<Figure size 432x288 with 1 Axes>"
            ]
          },
          "metadata": {
            "needs_background": "light"
          }
        }
      ]
    },
    {
      "cell_type": "code",
      "metadata": {
        "id": "dSN8nktDq_UO"
      },
      "source": [
        "encoder_out = model.encoder(fail_train_data.to_numpy())\n",
        "decoder_out = model.decoder(encoder_out)"
      ],
      "execution_count": 128,
      "outputs": []
    },
    {
      "cell_type": "code",
      "metadata": {
        "colab": {
          "base_uri": "https://localhost:8080/",
          "height": 283
        },
        "id": "03-OFnePrqhL",
        "outputId": "23538dd6-f256-4e33-b76a-f3fb1a6dccb2"
      },
      "source": [
        "plt.plot(pass_test_data.iloc[0],'b')\n",
        "plt.plot(decoder_out[0],'r')"
      ],
      "execution_count": 129,
      "outputs": [
        {
          "output_type": "execute_result",
          "data": {
            "text/plain": [
              "[<matplotlib.lines.Line2D at 0x7f29ab0781d0>]"
            ]
          },
          "metadata": {},
          "execution_count": 129
        },
        {
          "output_type": "display_data",
          "data": {
            "image/png": "[encoded data removed]",
            "text/plain": [
              "<Figure size 432x288 with 1 Axes>"
            ]
          },
          "metadata": {
            "needs_background": "light"
          }
        }
      ]
    },
    {
      "cell_type": "code",
      "metadata": {
        "colab": {
          "base_uri": "https://localhost:8080/",
          "height": 452
        },
        "id": "ruuRC6rxrs5m",
        "outputId": "120343e8-ad63-47df-8ba0-212c88b61e53"
      },
      "source": [
        "reconstruct = model.predict(pass_test_data)\n",
        "train_loss = tf.keras.losses.mean_squared_error(reconstruct, pass_test_data)\n",
        "\n",
        "plt.hist(train_loss, bins=30)"
      ],
      "execution_count": 138,
      "outputs": [
        {
          "output_type": "execute_result",
          "data": {
            "text/plain": [
              "(array([  7.,  18.,  42.,  59.,  85.,  95.,  89., 114., 114.,  72., 103.,\n",
              "         66.,  63.,  50.,  63.,  37.,  30.,  23.,  12.,   3.,   2.,   2.,\n",
              "          3.,   1.,   1.,   1.,   0.,   0.,   1.,   1.]),\n",
              " array([0.01537742, 0.02229994, 0.02922245, 0.03614497, 0.04306748,\n",
              "        0.04998999, 0.05691251, 0.06383502, 0.07075753, 0.07768005,\n",
              "        0.08460256, 0.09152508, 0.09844759, 0.1053701 , 0.11229262,\n",
              "        0.11921513, 0.12613765, 0.13306016, 0.13998267, 0.14690519,\n",
              "        0.1538277 , 0.16075022, 0.16767273, 0.17459524, 0.18151776,\n",
              "        0.18844027, 0.19536278, 0.2022853 , 0.20920781, 0.21613033,\n",
              "        0.22305284]),\n",
              " <a list of 30 Patch objects>)"
            ]
          },
          "metadata": {},
          "execution_count": 138
        },
        {
          "output_type": "display_data",
          "data": {
            "image/png": "[encoded data removed]",
            "text/plain": [
              "<Figure size 432x288 with 1 Axes>"
            ]
          },
          "metadata": {
            "needs_background": "light"
          }
        }
      ]
    },
    {
      "cell_type": "code",
      "metadata": {
        "colab": {
          "base_uri": "https://localhost:8080/"
        },
        "id": "8olq2VFgsXW2",
        "outputId": "d8ed8720-680e-4b2f-f1e1-760af15a42a9"
      },
      "source": [
        "print(np.mean(train_loss))\n",
        "print(np.std(train_loss))\n"
      ],
      "execution_count": 133,
      "outputs": [
        {
          "output_type": "stream",
          "name": "stdout",
          "text": [
            "0.0786610477274083\n",
            "0.03044442913515418\n"
          ]
        }
      ]
    },
    {
      "cell_type": "code",
      "metadata": {
        "colab": {
          "base_uri": "https://localhost:8080/"
        },
        "id": "dASjWxgmsu8c",
        "outputId": "0f524853-557b-4701-bd47-3dc024850f03"
      },
      "source": [
        "_2sigma_boundary = np.mean(train_loss) + 2*np.std(train_loss)\n",
        "_2sigma_boundary"
      ],
      "execution_count": 136,
      "outputs": [
        {
          "output_type": "execute_result",
          "data": {
            "text/plain": [
              "0.13954990599771666"
            ]
          },
          "metadata": {},
          "execution_count": 136
        }
      ]
    },
    {
      "cell_type": "code",
      "metadata": {
        "colab": {
          "base_uri": "https://localhost:8080/",
          "height": 435
        },
        "id": "Dl6EKsdPs_NK",
        "outputId": "d7229052-fee9-45a5-bf4f-519bdf2eb2eb"
      },
      "source": [
        "reconstruct_f = model.predict(fail_test_data)\n",
        "train_loss_f = tf.keras.losses.mean_squared_error(reconstruct_f, fail_test_data)\n",
        "\n",
        "plt.hist(train_loss_fail, bins = 30)"
      ],
      "execution_count": 141,
      "outputs": [
        {
          "output_type": "execute_result",
          "data": {
            "text/plain": [
              "(array([1., 0., 0., 0., 2., 0., 0., 1., 0., 2., 1., 0., 0., 0., 0., 0., 0.,\n",
              "        0., 0., 0., 0., 0., 0., 0., 0., 0., 0., 0., 0., 1.]),\n",
              " array([0.05724661, 0.06127985, 0.06531309, 0.06934634, 0.07337958,\n",
              "        0.07741282, 0.08144607, 0.08547931, 0.08951255, 0.0935458 ,\n",
              "        0.09757904, 0.10161229, 0.10564553, 0.10967877, 0.11371202,\n",
              "        0.11774526, 0.1217785 , 0.12581175, 0.12984499, 0.13387823,\n",
              "        0.13791148, 0.14194472, 0.14597796, 0.15001121, 0.15404445,\n",
              "        0.1580777 , 0.16211094, 0.16614418, 0.17017743, 0.17421067,\n",
              "        0.17824391]),\n",
              " <a list of 30 Patch objects>)"
            ]
          },
          "metadata": {},
          "execution_count": 141
        },
        {
          "output_type": "display_data",
          "data": {
            "image/png": "[encoded data removed]",
            "text/plain": [
              "<Figure size 432x288 with 1 Axes>"
            ]
          },
          "metadata": {
            "needs_background": "light"
          }
        }
      ]
    },
    {
      "cell_type": "code",
      "metadata": {
        "colab": {
          "base_uri": "https://localhost:8080/"
        },
        "id": "Os6Yn3Entirv",
        "outputId": "e7614585-434f-4ce8-9ac6-aa74783ce632"
      },
      "source": [
        "print(np.mean(train_loss_f))\n",
        "print(np.std(train_loss_f))"
      ],
      "execution_count": 142,
      "outputs": [
        {
          "output_type": "stream",
          "name": "stdout",
          "text": [
            "0.09642090942387382\n",
            "0.0337282086651517\n"
          ]
        }
      ]
    },
    {
      "cell_type": "code",
      "metadata": {
        "colab": {
          "base_uri": "https://localhost:8080/"
        },
        "id": "MyE24vvjt_5f",
        "outputId": "d822c98c-c6d4-430f-c826-8351e5da56c2"
      },
      "source": [
        "_2sigma_boundary_f = np.mean(train_loss_f) + 2*np.std(train_loss_f)\n",
        "_2sigma_boundary_f"
      ],
      "execution_count": 143,
      "outputs": [
        {
          "output_type": "execute_result",
          "data": {
            "text/plain": [
              "0.1638773267541772"
            ]
          },
          "metadata": {},
          "execution_count": 143
        }
      ]
    },
    {
      "cell_type": "code",
      "metadata": {
        "id": "YlavpYdsuQ3O"
      },
      "source": [
        ""
      ],
      "execution_count": null,
      "outputs": []
    }
  ]
}