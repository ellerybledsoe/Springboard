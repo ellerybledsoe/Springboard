{
  "nbformat": 4,
  "nbformat_minor": 0,
  "metadata": {
    "colab": {
      "name": "Austin Restaurant Inspections_Modeling",
      "provenance": [],
      "collapsed_sections": [],
      "authorship_tag": "ABX9TyMS6wfhJScgdOwq8Zi47OEC",
      "include_colab_link": true
    },
    "kernelspec": {
      "name": "python3",
      "display_name": "Python 3"
    },
    "language_info": {
      "name": "python"
    }
  },
  "cells": [
    {
      "cell_type": "markdown",
      "metadata": {
        "id": "view-in-github",
        "colab_type": "text"
      },
      "source": [
        "<a href=\"https://colab.research.google.com/github/ellerybledsoe/Springboard/blob/main/Austin_Restaurant_Inspections_Modeling.ipynb\" target=\"_parent\"><img src=\"https://colab.research.google.com/assets/colab-badge.svg\" alt=\"Open In Colab\"/></a>"
      ]
    },
    {
      "cell_type": "code",
      "metadata": {
        "id": "qOkYqgm2acyQ"
      },
      "source": [
        "import pandas as pd\n",
        "import numpy as np\n",
        "import json\n",
        "\n",
        "import matplotlib.pyplot as plt\n",
        "import seaborn as sns\n",
        "\n",
        "import tensorflow as tf\n",
        "from tensorflow.keras.models import Model\n",
        "from sklearn.model_selection import train_test_split\n",
        "from sklearn.preprocessing import MinMaxScaler, StandardScaler\n",
        "\n",
        "#from google.colab import files"
      ],
      "execution_count": 1,
      "outputs": []
    },
    {
      "cell_type": "code",
      "metadata": {
        "colab": {
          "base_uri": "https://localhost:8080/"
        },
        "id": "qG1_8v0e2Ac5",
        "outputId": "ad435849-19ad-44c4-adde-ce98a54c6237"
      },
      "source": [
        "%ls"
      ],
      "execution_count": 2,
      "outputs": [
        {
          "output_type": "stream",
          "name": "stdout",
          "text": [
            "\u001b[0m\u001b[01;34msample_data\u001b[0m/\n"
          ]
        }
      ]
    },
    {
      "cell_type": "code",
      "metadata": {
        "id": "sGQdsHwU2ISs"
      },
      "source": [
        "# %pwd"
      ],
      "execution_count": 4,
      "outputs": []
    },
    {
      "cell_type": "code",
      "metadata": {
        "id": "qSXiqEg82WPZ"
      },
      "source": [
        "#%cd .."
      ],
      "execution_count": 5,
      "outputs": []
    },
    {
      "cell_type": "code",
      "metadata": {
        "id": "IgGCSSM9bc2P"
      },
      "source": [
        "full = pd.read_csv(\"/content/austin_restaurant_inspections_full_dataset_03.csv\")\n",
        "X_train_scaled = pd.read_csv('/content/austin_restaurant_inspections_X_train_scaled.csv')\n",
        "X_test_scaled = pd.read_csv('/content/austin_restaurant_inspections_X_test_scaled.csv')\n",
        "y_train_scaled = pd.read_csv('/content/austin_restaurant_inspections_y_train_scaled.csv')\n",
        "y_test_scaled = pd.read_csv('/content/austin_restaurant_inspections_y_test_scaled.csv')"
      ],
      "execution_count": 3,
      "outputs": []
    },
    {
      "cell_type": "code",
      "metadata": {
        "colab": {
          "base_uri": "https://localhost:8080/",
          "height": 241
        },
        "id": "sQmk8xte1hLK",
        "outputId": "89b498f4-d6a6-4809-a15f-818c337bad56"
      },
      "source": [
        "X_train_scaled.head()"
      ],
      "execution_count": 4,
      "outputs": [
        {
          "output_type": "execute_result",
          "data": {
            "text/html": [
              "<div>\n",
              "<style scoped>\n",
              "    .dataframe tbody tr th:only-of-type {\n",
              "        vertical-align: middle;\n",
              "    }\n",
              "\n",
              "    .dataframe tbody tr th {\n",
              "        vertical-align: top;\n",
              "    }\n",
              "\n",
              "    .dataframe thead th {\n",
              "        text-align: right;\n",
              "    }\n",
              "</style>\n",
              "<table border=\"1\" class=\"dataframe\">\n",
              "  <thead>\n",
              "    <tr style=\"text-align: right;\">\n",
              "      <th></th>\n",
              "      <th>Unnamed: 0</th>\n",
              "      <th>review_length</th>\n",
              "      <th>review_word_count</th>\n",
              "      <th>oldest_score</th>\n",
              "      <th>newest_score</th>\n",
              "      <th>reviews_count</th>\n",
              "      <th>stars</th>\n",
              "      <th>useful_sum</th>\n",
              "      <th>stars_5.0_sum</th>\n",
              "      <th>cool_sum</th>\n",
              "      <th>RestaurantsPriceRange2</th>\n",
              "      <th>funny_sum</th>\n",
              "      <th>Restaurants</th>\n",
              "      <th>BusinessAcceptsCreditCards</th>\n",
              "      <th>Smoking_0</th>\n",
              "      <th>RestaurantsTakeOut</th>\n",
              "      <th>is_open</th>\n",
              "      <th>stars_4.0_sum</th>\n",
              "      <th>RestaurantsGoodForGroups</th>\n",
              "      <th>GoodForKids</th>\n",
              "      <th>BikeParking</th>\n",
              "      <th>lot</th>\n",
              "      <th>HasTV</th>\n",
              "      <th>RestaurantsDelivery</th>\n",
              "      <th>casual</th>\n",
              "      <th>NoiseLevel_u'average'</th>\n",
              "      <th>stars_1.0_sum</th>\n",
              "      <th>OutdoorSeating</th>\n",
              "      <th>lunch</th>\n",
              "      <th>Caters</th>\n",
              "      <th>Food</th>\n",
              "      <th>stars_3.0_sum</th>\n",
              "      <th>RestaurantsAttire_'casual'</th>\n",
              "      <th>RestaurantsAttire_u'casual'</th>\n",
              "      <th>dinner</th>\n",
              "      <th>WiFi_u'free'</th>\n",
              "      <th>WheelchairAccessible</th>\n",
              "      <th>stars_2.0_sum</th>\n",
              "      <th>HappyHour</th>\n",
              "      <th>classy</th>\n",
              "      <th>Alcohol_u'none'</th>\n",
              "      <th>RestaurantsTableService</th>\n",
              "      <th>street</th>\n",
              "      <th>RestaurantsReservations</th>\n",
              "      <th>Bars</th>\n",
              "      <th>WiFi_u'no'</th>\n",
              "      <th>Alcohol_u'full_bar'</th>\n",
              "      <th>Mexican</th>\n",
              "      <th>Nightlife</th>\n",
              "      <th>NoiseLevel_0</th>\n",
              "      <th>DogsAllowed</th>\n",
              "      <th>Breakfast &amp; Brunch</th>\n",
              "      <th>RestaurantsPriceRange_0.0</th>\n",
              "      <th>RestaurantsPriceRange_1.0</th>\n",
              "      <th>RestaurantsPriceRange_2.0</th>\n",
              "      <th>RestaurantsPriceRange_3.0</th>\n",
              "      <th>Score_LG</th>\n",
              "    </tr>\n",
              "  </thead>\n",
              "  <tbody>\n",
              "    <tr>\n",
              "      <th>0</th>\n",
              "      <td>4153</td>\n",
              "      <td>0.042165</td>\n",
              "      <td>0.043746</td>\n",
              "      <td>0.800000</td>\n",
              "      <td>0.277778</td>\n",
              "      <td>0.010256</td>\n",
              "      <td>0.375</td>\n",
              "      <td>0.004975</td>\n",
              "      <td>0.000000</td>\n",
              "      <td>0.000000</td>\n",
              "      <td>0.5</td>\n",
              "      <td>0.000</td>\n",
              "      <td>1.0</td>\n",
              "      <td>1.0</td>\n",
              "      <td>1</td>\n",
              "      <td>1.0</td>\n",
              "      <td>1.0</td>\n",
              "      <td>0.000000</td>\n",
              "      <td>1.0</td>\n",
              "      <td>1.0</td>\n",
              "      <td>1.0</td>\n",
              "      <td>1.0</td>\n",
              "      <td>1.0</td>\n",
              "      <td>1.0</td>\n",
              "      <td>1.0</td>\n",
              "      <td>1</td>\n",
              "      <td>0.030303</td>\n",
              "      <td>0.0</td>\n",
              "      <td>1.0</td>\n",
              "      <td>0.0</td>\n",
              "      <td>1.0</td>\n",
              "      <td>0.055556</td>\n",
              "      <td>1</td>\n",
              "      <td>0</td>\n",
              "      <td>0.0</td>\n",
              "      <td>0</td>\n",
              "      <td>0.0</td>\n",
              "      <td>0.000000</td>\n",
              "      <td>0.0</td>\n",
              "      <td>0.0</td>\n",
              "      <td>1</td>\n",
              "      <td>1.0</td>\n",
              "      <td>0.0</td>\n",
              "      <td>0.0</td>\n",
              "      <td>0.0</td>\n",
              "      <td>0</td>\n",
              "      <td>0</td>\n",
              "      <td>0.0</td>\n",
              "      <td>0.0</td>\n",
              "      <td>0</td>\n",
              "      <td>0.0</td>\n",
              "      <td>1.0</td>\n",
              "      <td>0</td>\n",
              "      <td>0</td>\n",
              "      <td>1</td>\n",
              "      <td>0</td>\n",
              "      <td>0.933333</td>\n",
              "    </tr>\n",
              "    <tr>\n",
              "      <th>1</th>\n",
              "      <td>2528</td>\n",
              "      <td>0.188831</td>\n",
              "      <td>0.180803</td>\n",
              "      <td>0.533333</td>\n",
              "      <td>0.611111</td>\n",
              "      <td>0.087179</td>\n",
              "      <td>0.750</td>\n",
              "      <td>0.039801</td>\n",
              "      <td>0.046053</td>\n",
              "      <td>0.037838</td>\n",
              "      <td>0.5</td>\n",
              "      <td>0.040</td>\n",
              "      <td>1.0</td>\n",
              "      <td>1.0</td>\n",
              "      <td>1</td>\n",
              "      <td>1.0</td>\n",
              "      <td>1.0</td>\n",
              "      <td>0.178571</td>\n",
              "      <td>1.0</td>\n",
              "      <td>1.0</td>\n",
              "      <td>1.0</td>\n",
              "      <td>0.0</td>\n",
              "      <td>0.0</td>\n",
              "      <td>0.0</td>\n",
              "      <td>1.0</td>\n",
              "      <td>1</td>\n",
              "      <td>0.090909</td>\n",
              "      <td>0.0</td>\n",
              "      <td>0.0</td>\n",
              "      <td>0.0</td>\n",
              "      <td>0.0</td>\n",
              "      <td>0.111111</td>\n",
              "      <td>1</td>\n",
              "      <td>0</td>\n",
              "      <td>0.0</td>\n",
              "      <td>1</td>\n",
              "      <td>0.0</td>\n",
              "      <td>0.000000</td>\n",
              "      <td>0.0</td>\n",
              "      <td>1.0</td>\n",
              "      <td>0</td>\n",
              "      <td>1.0</td>\n",
              "      <td>1.0</td>\n",
              "      <td>0.0</td>\n",
              "      <td>0.0</td>\n",
              "      <td>0</td>\n",
              "      <td>1</td>\n",
              "      <td>0.0</td>\n",
              "      <td>0.0</td>\n",
              "      <td>0</td>\n",
              "      <td>1.0</td>\n",
              "      <td>1.0</td>\n",
              "      <td>0</td>\n",
              "      <td>0</td>\n",
              "      <td>1</td>\n",
              "      <td>0</td>\n",
              "      <td>0.644444</td>\n",
              "    </tr>\n",
              "    <tr>\n",
              "      <th>2</th>\n",
              "      <td>5064</td>\n",
              "      <td>0.000000</td>\n",
              "      <td>0.000000</td>\n",
              "      <td>0.866667</td>\n",
              "      <td>0.805556</td>\n",
              "      <td>0.000000</td>\n",
              "      <td>0.500</td>\n",
              "      <td>0.000000</td>\n",
              "      <td>0.000000</td>\n",
              "      <td>0.000000</td>\n",
              "      <td>0.5</td>\n",
              "      <td>0.000</td>\n",
              "      <td>1.0</td>\n",
              "      <td>1.0</td>\n",
              "      <td>0</td>\n",
              "      <td>0.0</td>\n",
              "      <td>1.0</td>\n",
              "      <td>0.000000</td>\n",
              "      <td>1.0</td>\n",
              "      <td>0.0</td>\n",
              "      <td>1.0</td>\n",
              "      <td>0.0</td>\n",
              "      <td>1.0</td>\n",
              "      <td>0.0</td>\n",
              "      <td>0.0</td>\n",
              "      <td>0</td>\n",
              "      <td>0.000000</td>\n",
              "      <td>0.0</td>\n",
              "      <td>0.0</td>\n",
              "      <td>0.0</td>\n",
              "      <td>0.0</td>\n",
              "      <td>0.000000</td>\n",
              "      <td>0</td>\n",
              "      <td>0</td>\n",
              "      <td>0.0</td>\n",
              "      <td>1</td>\n",
              "      <td>1.0</td>\n",
              "      <td>0.000000</td>\n",
              "      <td>1.0</td>\n",
              "      <td>0.0</td>\n",
              "      <td>0</td>\n",
              "      <td>0.0</td>\n",
              "      <td>1.0</td>\n",
              "      <td>0.0</td>\n",
              "      <td>1.0</td>\n",
              "      <td>0</td>\n",
              "      <td>1</td>\n",
              "      <td>0.0</td>\n",
              "      <td>1.0</td>\n",
              "      <td>0</td>\n",
              "      <td>1.0</td>\n",
              "      <td>0.0</td>\n",
              "      <td>0</td>\n",
              "      <td>0</td>\n",
              "      <td>1</td>\n",
              "      <td>0</td>\n",
              "      <td>0.844444</td>\n",
              "    </tr>\n",
              "    <tr>\n",
              "      <th>3</th>\n",
              "      <td>4135</td>\n",
              "      <td>0.018644</td>\n",
              "      <td>0.016990</td>\n",
              "      <td>1.000000</td>\n",
              "      <td>0.722222</td>\n",
              "      <td>0.005128</td>\n",
              "      <td>0.750</td>\n",
              "      <td>0.000000</td>\n",
              "      <td>0.006579</td>\n",
              "      <td>0.000000</td>\n",
              "      <td>0.0</td>\n",
              "      <td>0.000</td>\n",
              "      <td>1.0</td>\n",
              "      <td>1.0</td>\n",
              "      <td>1</td>\n",
              "      <td>0.0</td>\n",
              "      <td>1.0</td>\n",
              "      <td>0.000000</td>\n",
              "      <td>0.0</td>\n",
              "      <td>0.0</td>\n",
              "      <td>0.0</td>\n",
              "      <td>0.0</td>\n",
              "      <td>0.0</td>\n",
              "      <td>0.0</td>\n",
              "      <td>0.0</td>\n",
              "      <td>1</td>\n",
              "      <td>0.000000</td>\n",
              "      <td>0.0</td>\n",
              "      <td>0.0</td>\n",
              "      <td>0.0</td>\n",
              "      <td>1.0</td>\n",
              "      <td>0.000000</td>\n",
              "      <td>0</td>\n",
              "      <td>0</td>\n",
              "      <td>0.0</td>\n",
              "      <td>0</td>\n",
              "      <td>0.0</td>\n",
              "      <td>0.000000</td>\n",
              "      <td>0.0</td>\n",
              "      <td>0.0</td>\n",
              "      <td>0</td>\n",
              "      <td>0.0</td>\n",
              "      <td>0.0</td>\n",
              "      <td>0.0</td>\n",
              "      <td>0.0</td>\n",
              "      <td>0</td>\n",
              "      <td>0</td>\n",
              "      <td>0.0</td>\n",
              "      <td>0.0</td>\n",
              "      <td>0</td>\n",
              "      <td>0.0</td>\n",
              "      <td>0.0</td>\n",
              "      <td>1</td>\n",
              "      <td>0</td>\n",
              "      <td>0</td>\n",
              "      <td>0</td>\n",
              "      <td>1.000000</td>\n",
              "    </tr>\n",
              "    <tr>\n",
              "      <th>4</th>\n",
              "      <td>723</td>\n",
              "      <td>0.279299</td>\n",
              "      <td>0.275184</td>\n",
              "      <td>0.822222</td>\n",
              "      <td>0.750000</td>\n",
              "      <td>0.179487</td>\n",
              "      <td>0.750</td>\n",
              "      <td>0.054726</td>\n",
              "      <td>0.118421</td>\n",
              "      <td>0.027027</td>\n",
              "      <td>0.5</td>\n",
              "      <td>0.024</td>\n",
              "      <td>1.0</td>\n",
              "      <td>1.0</td>\n",
              "      <td>1</td>\n",
              "      <td>1.0</td>\n",
              "      <td>1.0</td>\n",
              "      <td>0.250000</td>\n",
              "      <td>1.0</td>\n",
              "      <td>1.0</td>\n",
              "      <td>0.0</td>\n",
              "      <td>1.0</td>\n",
              "      <td>0.0</td>\n",
              "      <td>0.0</td>\n",
              "      <td>1.0</td>\n",
              "      <td>1</td>\n",
              "      <td>0.121212</td>\n",
              "      <td>1.0</td>\n",
              "      <td>0.0</td>\n",
              "      <td>0.0</td>\n",
              "      <td>0.0</td>\n",
              "      <td>0.222222</td>\n",
              "      <td>0</td>\n",
              "      <td>1</td>\n",
              "      <td>1.0</td>\n",
              "      <td>0</td>\n",
              "      <td>0.0</td>\n",
              "      <td>0.083333</td>\n",
              "      <td>1.0</td>\n",
              "      <td>0.0</td>\n",
              "      <td>0</td>\n",
              "      <td>1.0</td>\n",
              "      <td>1.0</td>\n",
              "      <td>1.0</td>\n",
              "      <td>0.0</td>\n",
              "      <td>1</td>\n",
              "      <td>0</td>\n",
              "      <td>0.0</td>\n",
              "      <td>0.0</td>\n",
              "      <td>0</td>\n",
              "      <td>0.0</td>\n",
              "      <td>0.0</td>\n",
              "      <td>0</td>\n",
              "      <td>0</td>\n",
              "      <td>1</td>\n",
              "      <td>0</td>\n",
              "      <td>0.822222</td>\n",
              "    </tr>\n",
              "  </tbody>\n",
              "</table>\n",
              "</div>"
            ],
            "text/plain": [
              "   Unnamed: 0  review_length  ...  RestaurantsPriceRange_3.0  Score_LG\n",
              "0        4153       0.042165  ...                          0  0.933333\n",
              "1        2528       0.188831  ...                          0  0.644444\n",
              "2        5064       0.000000  ...                          0  0.844444\n",
              "3        4135       0.018644  ...                          0  1.000000\n",
              "4         723       0.279299  ...                          0  0.822222\n",
              "\n",
              "[5 rows x 57 columns]"
            ]
          },
          "metadata": {},
          "execution_count": 4
        }
      ]
    },
    {
      "cell_type": "code",
      "metadata": {
        "colab": {
          "base_uri": "https://localhost:8080/"
        },
        "id": "HIhoU5ZBZmQL",
        "outputId": "03081e74-3ee6-411e-9153-5ea02e0faffe"
      },
      "source": [
        "y_train.pass_fail_flag.value_counts(normalize=True)"
      ],
      "execution_count": 5,
      "outputs": [
        {
          "output_type": "execute_result",
          "data": {
            "text/plain": [
              "0    0.991414\n",
              "1    0.008586\n",
              "Name: pass_fail_flag, dtype: float64"
            ]
          },
          "metadata": {},
          "execution_count": 5
        }
      ]
    },
    {
      "cell_type": "code",
      "metadata": {
        "colab": {
          "base_uri": "https://localhost:8080/"
        },
        "id": "JDbUqHuTZv4R",
        "outputId": "7e3c6537-5d86-444d-f73a-88244ffda1cd"
      },
      "source": [
        "full.letter_grade.value_counts(normalize=True)"
      ],
      "execution_count": 6,
      "outputs": [
        {
          "output_type": "execute_result",
          "data": {
            "text/plain": [
              "A    0.592487\n",
              "B    0.310330\n",
              "C    0.088666\n",
              "F    0.008517\n",
              "Name: letter_grade, dtype: float64"
            ]
          },
          "metadata": {},
          "execution_count": 6
        }
      ]
    },
    {
      "cell_type": "code",
      "metadata": {
        "id": "fi6SPQ3DxgXN"
      },
      "source": [
        "y_train.drop(columns=['Unnamed: 0'], inplace = True)\n",
        "X_train_scaled.drop(columns=['Unnamed: 0','Score_LG','oldest_score','newest_score','is_open','RestaurantsPriceRange_0.0','Food'], inplace = True)\n",
        "y_test.drop(columns=['Unnamed: 0'], inplace = True)\n",
        "X_test_scaled.drop(columns=['Unnamed: 0','Score_LG','oldest_score','newest_score','is_open','RestaurantsPriceRange_0.0','Food'], inplace = True)"
      ],
      "execution_count": 7,
      "outputs": []
    },
    {
      "cell_type": "code",
      "metadata": {
        "colab": {
          "base_uri": "https://localhost:8080/"
        },
        "id": "-PmfGslGadKI",
        "outputId": "63f21e22-c1dd-4431-f403-8f9626e2cd5b"
      },
      "source": [
        "print(X_train_scaled.shape)\n",
        "print(y_train.shape)\n",
        "print(y_test.shape)\n",
        "\n",
        "train_scaled = pd.concat([y_train,X_train_scaled], axis=1)\n",
        "test_scaled = pd.concat([y_test,X_test_scaled], axis=1)\n",
        "\n",
        "print(train_scaled.shape)\n",
        "print(test_scaled.shape)"
      ],
      "execution_count": 8,
      "outputs": [
        {
          "output_type": "stream",
          "name": "stdout",
          "text": [
            "(4659, 50)\n",
            "(4659, 1)\n",
            "(1165, 1)\n",
            "(4659, 51)\n",
            "(1165, 51)\n"
          ]
        }
      ]
    },
    {
      "cell_type": "code",
      "metadata": {
        "colab": {
          "base_uri": "https://localhost:8080/"
        },
        "id": "LWvDGEdQeCD-",
        "outputId": "eb7961c3-d9a2-416d-ad47-5db7867e150a"
      },
      "source": [
        "print(train_scaled.columns)"
      ],
      "execution_count": 9,
      "outputs": [
        {
          "output_type": "stream",
          "name": "stdout",
          "text": [
            "Index(['pass_fail_flag', 'review_length', 'review_word_count', 'reviews_count',\n",
            "       'stars', 'useful_sum', 'stars_5.0_sum', 'cool_sum',\n",
            "       'RestaurantsPriceRange2', 'funny_sum', 'Restaurants',\n",
            "       'BusinessAcceptsCreditCards', 'Smoking_0', 'RestaurantsTakeOut',\n",
            "       'stars_4.0_sum', 'RestaurantsGoodForGroups', 'GoodForKids',\n",
            "       'BikeParking', 'lot', 'HasTV', 'RestaurantsDelivery', 'casual',\n",
            "       'NoiseLevel_u'average'', 'stars_1.0_sum', 'OutdoorSeating', 'lunch',\n",
            "       'Caters', 'stars_3.0_sum', 'RestaurantsAttire_'casual'',\n",
            "       'RestaurantsAttire_u'casual'', 'dinner', 'WiFi_u'free'',\n",
            "       'WheelchairAccessible', 'stars_2.0_sum', 'HappyHour', 'classy',\n",
            "       'Alcohol_u'none'', 'RestaurantsTableService', 'street',\n",
            "       'RestaurantsReservations', 'Bars', 'WiFi_u'no'', 'Alcohol_u'full_bar'',\n",
            "       'Mexican', 'Nightlife', 'NoiseLevel_0', 'DogsAllowed',\n",
            "       'Breakfast & Brunch', 'RestaurantsPriceRange_1.0',\n",
            "       'RestaurantsPriceRange_2.0', 'RestaurantsPriceRange_3.0'],\n",
            "      dtype='object')\n"
          ]
        }
      ]
    },
    {
      "cell_type": "code",
      "metadata": {
        "colab": {
          "base_uri": "https://localhost:8080/"
        },
        "id": "1ux-px9cv-Gf",
        "outputId": "fe643f0a-fc57-453b-879b-74ebe1e67233"
      },
      "source": [
        "train_scaled.pass_fail_flag.value_counts(normalize=True)"
      ],
      "execution_count": 10,
      "outputs": [
        {
          "output_type": "execute_result",
          "data": {
            "text/plain": [
              "0    0.991414\n",
              "1    0.008586\n",
              "Name: pass_fail_flag, dtype: float64"
            ]
          },
          "metadata": {},
          "execution_count": 10
        }
      ]
    },
    {
      "cell_type": "code",
      "metadata": {
        "colab": {
          "base_uri": "https://localhost:8080/",
          "height": 117
        },
        "id": "aENAgV8yzF7h",
        "outputId": "5a2a06e3-f01f-453d-9964-baf011e0fd26"
      },
      "source": [
        "train_scaled.head(1)"
      ],
      "execution_count": 11,
      "outputs": [
        {
          "output_type": "execute_result",
          "data": {
            "text/html": [
              "<div>\n",
              "<style scoped>\n",
              "    .dataframe tbody tr th:only-of-type {\n",
              "        vertical-align: middle;\n",
              "    }\n",
              "\n",
              "    .dataframe tbody tr th {\n",
              "        vertical-align: top;\n",
              "    }\n",
              "\n",
              "    .dataframe thead th {\n",
              "        text-align: right;\n",
              "    }\n",
              "</style>\n",
              "<table border=\"1\" class=\"dataframe\">\n",
              "  <thead>\n",
              "    <tr style=\"text-align: right;\">\n",
              "      <th></th>\n",
              "      <th>pass_fail_flag</th>\n",
              "      <th>review_length</th>\n",
              "      <th>review_word_count</th>\n",
              "      <th>reviews_count</th>\n",
              "      <th>stars</th>\n",
              "      <th>useful_sum</th>\n",
              "      <th>stars_5.0_sum</th>\n",
              "      <th>cool_sum</th>\n",
              "      <th>RestaurantsPriceRange2</th>\n",
              "      <th>funny_sum</th>\n",
              "      <th>Restaurants</th>\n",
              "      <th>BusinessAcceptsCreditCards</th>\n",
              "      <th>Smoking_0</th>\n",
              "      <th>RestaurantsTakeOut</th>\n",
              "      <th>stars_4.0_sum</th>\n",
              "      <th>RestaurantsGoodForGroups</th>\n",
              "      <th>GoodForKids</th>\n",
              "      <th>BikeParking</th>\n",
              "      <th>lot</th>\n",
              "      <th>HasTV</th>\n",
              "      <th>RestaurantsDelivery</th>\n",
              "      <th>casual</th>\n",
              "      <th>NoiseLevel_u'average'</th>\n",
              "      <th>stars_1.0_sum</th>\n",
              "      <th>OutdoorSeating</th>\n",
              "      <th>lunch</th>\n",
              "      <th>Caters</th>\n",
              "      <th>stars_3.0_sum</th>\n",
              "      <th>RestaurantsAttire_'casual'</th>\n",
              "      <th>RestaurantsAttire_u'casual'</th>\n",
              "      <th>dinner</th>\n",
              "      <th>WiFi_u'free'</th>\n",
              "      <th>WheelchairAccessible</th>\n",
              "      <th>stars_2.0_sum</th>\n",
              "      <th>HappyHour</th>\n",
              "      <th>classy</th>\n",
              "      <th>Alcohol_u'none'</th>\n",
              "      <th>RestaurantsTableService</th>\n",
              "      <th>street</th>\n",
              "      <th>RestaurantsReservations</th>\n",
              "      <th>Bars</th>\n",
              "      <th>WiFi_u'no'</th>\n",
              "      <th>Alcohol_u'full_bar'</th>\n",
              "      <th>Mexican</th>\n",
              "      <th>Nightlife</th>\n",
              "      <th>NoiseLevel_0</th>\n",
              "      <th>DogsAllowed</th>\n",
              "      <th>Breakfast &amp; Brunch</th>\n",
              "      <th>RestaurantsPriceRange_1.0</th>\n",
              "      <th>RestaurantsPriceRange_2.0</th>\n",
              "      <th>RestaurantsPriceRange_3.0</th>\n",
              "    </tr>\n",
              "  </thead>\n",
              "  <tbody>\n",
              "    <tr>\n",
              "      <th>0</th>\n",
              "      <td>0</td>\n",
              "      <td>0.042165</td>\n",
              "      <td>0.043746</td>\n",
              "      <td>0.010256</td>\n",
              "      <td>0.375</td>\n",
              "      <td>0.004975</td>\n",
              "      <td>0.0</td>\n",
              "      <td>0.0</td>\n",
              "      <td>0.5</td>\n",
              "      <td>0.0</td>\n",
              "      <td>1.0</td>\n",
              "      <td>1.0</td>\n",
              "      <td>1</td>\n",
              "      <td>1.0</td>\n",
              "      <td>0.0</td>\n",
              "      <td>1.0</td>\n",
              "      <td>1.0</td>\n",
              "      <td>1.0</td>\n",
              "      <td>1.0</td>\n",
              "      <td>1.0</td>\n",
              "      <td>1.0</td>\n",
              "      <td>1.0</td>\n",
              "      <td>1</td>\n",
              "      <td>0.030303</td>\n",
              "      <td>0.0</td>\n",
              "      <td>1.0</td>\n",
              "      <td>0.0</td>\n",
              "      <td>0.055556</td>\n",
              "      <td>1</td>\n",
              "      <td>0</td>\n",
              "      <td>0.0</td>\n",
              "      <td>0</td>\n",
              "      <td>0.0</td>\n",
              "      <td>0.0</td>\n",
              "      <td>0.0</td>\n",
              "      <td>0.0</td>\n",
              "      <td>1</td>\n",
              "      <td>1.0</td>\n",
              "      <td>0.0</td>\n",
              "      <td>0.0</td>\n",
              "      <td>0.0</td>\n",
              "      <td>0</td>\n",
              "      <td>0</td>\n",
              "      <td>0.0</td>\n",
              "      <td>0.0</td>\n",
              "      <td>0</td>\n",
              "      <td>0.0</td>\n",
              "      <td>1.0</td>\n",
              "      <td>0</td>\n",
              "      <td>1</td>\n",
              "      <td>0</td>\n",
              "    </tr>\n",
              "  </tbody>\n",
              "</table>\n",
              "</div>"
            ],
            "text/plain": [
              "   pass_fail_flag  ...  RestaurantsPriceRange_3.0\n",
              "0               0  ...                          0\n",
              "\n",
              "[1 rows x 51 columns]"
            ]
          },
          "metadata": {},
          "execution_count": 11
        }
      ]
    },
    {
      "cell_type": "code",
      "metadata": {
        "id": "c03j7rSTyAoR"
      },
      "source": [
        "pass_train_data = train_scaled[train_scaled.pass_fail_flag == 0].iloc[:,1:]\n",
        "fail_train_data = train_scaled[train_scaled.pass_fail_flag == 1].iloc[:,1:]"
      ],
      "execution_count": 12,
      "outputs": []
    },
    {
      "cell_type": "code",
      "metadata": {
        "colab": {
          "base_uri": "https://localhost:8080/",
          "height": 241
        },
        "id": "DWB9QyOby9dW",
        "outputId": "d3bb943a-89e7-4857-8f4e-e922083f3b24"
      },
      "source": [
        "fail_train_data.head()"
      ],
      "execution_count": 13,
      "outputs": [
        {
          "output_type": "execute_result",
          "data": {
            "text/html": [
              "<div>\n",
              "<style scoped>\n",
              "    .dataframe tbody tr th:only-of-type {\n",
              "        vertical-align: middle;\n",
              "    }\n",
              "\n",
              "    .dataframe tbody tr th {\n",
              "        vertical-align: top;\n",
              "    }\n",
              "\n",
              "    .dataframe thead th {\n",
              "        text-align: right;\n",
              "    }\n",
              "</style>\n",
              "<table border=\"1\" class=\"dataframe\">\n",
              "  <thead>\n",
              "    <tr style=\"text-align: right;\">\n",
              "      <th></th>\n",
              "      <th>review_length</th>\n",
              "      <th>review_word_count</th>\n",
              "      <th>reviews_count</th>\n",
              "      <th>stars</th>\n",
              "      <th>useful_sum</th>\n",
              "      <th>stars_5.0_sum</th>\n",
              "      <th>cool_sum</th>\n",
              "      <th>RestaurantsPriceRange2</th>\n",
              "      <th>funny_sum</th>\n",
              "      <th>Restaurants</th>\n",
              "      <th>BusinessAcceptsCreditCards</th>\n",
              "      <th>Smoking_0</th>\n",
              "      <th>RestaurantsTakeOut</th>\n",
              "      <th>stars_4.0_sum</th>\n",
              "      <th>RestaurantsGoodForGroups</th>\n",
              "      <th>GoodForKids</th>\n",
              "      <th>BikeParking</th>\n",
              "      <th>lot</th>\n",
              "      <th>HasTV</th>\n",
              "      <th>RestaurantsDelivery</th>\n",
              "      <th>casual</th>\n",
              "      <th>NoiseLevel_u'average'</th>\n",
              "      <th>stars_1.0_sum</th>\n",
              "      <th>OutdoorSeating</th>\n",
              "      <th>lunch</th>\n",
              "      <th>Caters</th>\n",
              "      <th>stars_3.0_sum</th>\n",
              "      <th>RestaurantsAttire_'casual'</th>\n",
              "      <th>RestaurantsAttire_u'casual'</th>\n",
              "      <th>dinner</th>\n",
              "      <th>WiFi_u'free'</th>\n",
              "      <th>WheelchairAccessible</th>\n",
              "      <th>stars_2.0_sum</th>\n",
              "      <th>HappyHour</th>\n",
              "      <th>classy</th>\n",
              "      <th>Alcohol_u'none'</th>\n",
              "      <th>RestaurantsTableService</th>\n",
              "      <th>street</th>\n",
              "      <th>RestaurantsReservations</th>\n",
              "      <th>Bars</th>\n",
              "      <th>WiFi_u'no'</th>\n",
              "      <th>Alcohol_u'full_bar'</th>\n",
              "      <th>Mexican</th>\n",
              "      <th>Nightlife</th>\n",
              "      <th>NoiseLevel_0</th>\n",
              "      <th>DogsAllowed</th>\n",
              "      <th>Breakfast &amp; Brunch</th>\n",
              "      <th>RestaurantsPriceRange_1.0</th>\n",
              "      <th>RestaurantsPriceRange_2.0</th>\n",
              "      <th>RestaurantsPriceRange_3.0</th>\n",
              "    </tr>\n",
              "  </thead>\n",
              "  <tbody>\n",
              "    <tr>\n",
              "      <th>9</th>\n",
              "      <td>0.039815</td>\n",
              "      <td>0.039331</td>\n",
              "      <td>0.046154</td>\n",
              "      <td>0.625</td>\n",
              "      <td>0.024876</td>\n",
              "      <td>0.019737</td>\n",
              "      <td>0.0</td>\n",
              "      <td>0.50</td>\n",
              "      <td>0.000</td>\n",
              "      <td>1.0</td>\n",
              "      <td>1.0</td>\n",
              "      <td>1</td>\n",
              "      <td>1.0</td>\n",
              "      <td>0.035714</td>\n",
              "      <td>1.0</td>\n",
              "      <td>1.0</td>\n",
              "      <td>1.0</td>\n",
              "      <td>1.0</td>\n",
              "      <td>0.0</td>\n",
              "      <td>1.0</td>\n",
              "      <td>1.0</td>\n",
              "      <td>1</td>\n",
              "      <td>0.121212</td>\n",
              "      <td>0.0</td>\n",
              "      <td>1.0</td>\n",
              "      <td>1.0</td>\n",
              "      <td>0.055556</td>\n",
              "      <td>0</td>\n",
              "      <td>1</td>\n",
              "      <td>1.0</td>\n",
              "      <td>1</td>\n",
              "      <td>0.0</td>\n",
              "      <td>0.000000</td>\n",
              "      <td>0.0</td>\n",
              "      <td>0.0</td>\n",
              "      <td>1</td>\n",
              "      <td>0.0</td>\n",
              "      <td>0.0</td>\n",
              "      <td>1.0</td>\n",
              "      <td>0.0</td>\n",
              "      <td>0</td>\n",
              "      <td>0</td>\n",
              "      <td>0.0</td>\n",
              "      <td>0.0</td>\n",
              "      <td>0</td>\n",
              "      <td>0.0</td>\n",
              "      <td>0.0</td>\n",
              "      <td>0</td>\n",
              "      <td>1</td>\n",
              "      <td>0</td>\n",
              "    </tr>\n",
              "    <tr>\n",
              "      <th>164</th>\n",
              "      <td>0.018076</td>\n",
              "      <td>0.017993</td>\n",
              "      <td>0.015385</td>\n",
              "      <td>0.625</td>\n",
              "      <td>0.014925</td>\n",
              "      <td>0.006579</td>\n",
              "      <td>0.0</td>\n",
              "      <td>0.25</td>\n",
              "      <td>0.008</td>\n",
              "      <td>1.0</td>\n",
              "      <td>1.0</td>\n",
              "      <td>1</td>\n",
              "      <td>1.0</td>\n",
              "      <td>0.000000</td>\n",
              "      <td>1.0</td>\n",
              "      <td>1.0</td>\n",
              "      <td>1.0</td>\n",
              "      <td>1.0</td>\n",
              "      <td>1.0</td>\n",
              "      <td>1.0</td>\n",
              "      <td>0.0</td>\n",
              "      <td>1</td>\n",
              "      <td>0.030303</td>\n",
              "      <td>1.0</td>\n",
              "      <td>1.0</td>\n",
              "      <td>1.0</td>\n",
              "      <td>0.000000</td>\n",
              "      <td>1</td>\n",
              "      <td>0</td>\n",
              "      <td>0.0</td>\n",
              "      <td>1</td>\n",
              "      <td>0.0</td>\n",
              "      <td>0.041667</td>\n",
              "      <td>1.0</td>\n",
              "      <td>0.0</td>\n",
              "      <td>0</td>\n",
              "      <td>0.0</td>\n",
              "      <td>1.0</td>\n",
              "      <td>1.0</td>\n",
              "      <td>1.0</td>\n",
              "      <td>0</td>\n",
              "      <td>1</td>\n",
              "      <td>1.0</td>\n",
              "      <td>1.0</td>\n",
              "      <td>0</td>\n",
              "      <td>0.0</td>\n",
              "      <td>0.0</td>\n",
              "      <td>1</td>\n",
              "      <td>0</td>\n",
              "      <td>0</td>\n",
              "    </tr>\n",
              "    <tr>\n",
              "      <th>296</th>\n",
              "      <td>0.010560</td>\n",
              "      <td>0.010702</td>\n",
              "      <td>0.010256</td>\n",
              "      <td>0.250</td>\n",
              "      <td>0.004975</td>\n",
              "      <td>0.000000</td>\n",
              "      <td>0.0</td>\n",
              "      <td>0.25</td>\n",
              "      <td>0.016</td>\n",
              "      <td>1.0</td>\n",
              "      <td>1.0</td>\n",
              "      <td>1</td>\n",
              "      <td>1.0</td>\n",
              "      <td>0.000000</td>\n",
              "      <td>1.0</td>\n",
              "      <td>1.0</td>\n",
              "      <td>0.0</td>\n",
              "      <td>1.0</td>\n",
              "      <td>1.0</td>\n",
              "      <td>1.0</td>\n",
              "      <td>0.0</td>\n",
              "      <td>0</td>\n",
              "      <td>0.030303</td>\n",
              "      <td>0.0</td>\n",
              "      <td>0.0</td>\n",
              "      <td>0.0</td>\n",
              "      <td>0.000000</td>\n",
              "      <td>0</td>\n",
              "      <td>1</td>\n",
              "      <td>0.0</td>\n",
              "      <td>0</td>\n",
              "      <td>0.0</td>\n",
              "      <td>0.041667</td>\n",
              "      <td>0.0</td>\n",
              "      <td>0.0</td>\n",
              "      <td>1</td>\n",
              "      <td>0.0</td>\n",
              "      <td>0.0</td>\n",
              "      <td>0.0</td>\n",
              "      <td>0.0</td>\n",
              "      <td>0</td>\n",
              "      <td>0</td>\n",
              "      <td>0.0</td>\n",
              "      <td>0.0</td>\n",
              "      <td>0</td>\n",
              "      <td>0.0</td>\n",
              "      <td>0.0</td>\n",
              "      <td>1</td>\n",
              "      <td>0</td>\n",
              "      <td>0</td>\n",
              "    </tr>\n",
              "    <tr>\n",
              "      <th>408</th>\n",
              "      <td>0.000000</td>\n",
              "      <td>0.000000</td>\n",
              "      <td>0.000000</td>\n",
              "      <td>0.500</td>\n",
              "      <td>0.000000</td>\n",
              "      <td>0.000000</td>\n",
              "      <td>0.0</td>\n",
              "      <td>0.50</td>\n",
              "      <td>0.000</td>\n",
              "      <td>1.0</td>\n",
              "      <td>1.0</td>\n",
              "      <td>1</td>\n",
              "      <td>1.0</td>\n",
              "      <td>0.000000</td>\n",
              "      <td>1.0</td>\n",
              "      <td>1.0</td>\n",
              "      <td>1.0</td>\n",
              "      <td>1.0</td>\n",
              "      <td>1.0</td>\n",
              "      <td>1.0</td>\n",
              "      <td>1.0</td>\n",
              "      <td>0</td>\n",
              "      <td>0.000000</td>\n",
              "      <td>1.0</td>\n",
              "      <td>1.0</td>\n",
              "      <td>0.0</td>\n",
              "      <td>0.000000</td>\n",
              "      <td>1</td>\n",
              "      <td>0</td>\n",
              "      <td>1.0</td>\n",
              "      <td>0</td>\n",
              "      <td>1.0</td>\n",
              "      <td>0.000000</td>\n",
              "      <td>1.0</td>\n",
              "      <td>0.0</td>\n",
              "      <td>0</td>\n",
              "      <td>0.0</td>\n",
              "      <td>0.0</td>\n",
              "      <td>1.0</td>\n",
              "      <td>1.0</td>\n",
              "      <td>1</td>\n",
              "      <td>0</td>\n",
              "      <td>0.0</td>\n",
              "      <td>0.0</td>\n",
              "      <td>0</td>\n",
              "      <td>0.0</td>\n",
              "      <td>0.0</td>\n",
              "      <td>0</td>\n",
              "      <td>1</td>\n",
              "      <td>0</td>\n",
              "    </tr>\n",
              "    <tr>\n",
              "      <th>482</th>\n",
              "      <td>0.000000</td>\n",
              "      <td>0.000000</td>\n",
              "      <td>0.000000</td>\n",
              "      <td>0.625</td>\n",
              "      <td>0.000000</td>\n",
              "      <td>0.000000</td>\n",
              "      <td>0.0</td>\n",
              "      <td>0.50</td>\n",
              "      <td>0.000</td>\n",
              "      <td>1.0</td>\n",
              "      <td>1.0</td>\n",
              "      <td>1</td>\n",
              "      <td>1.0</td>\n",
              "      <td>0.000000</td>\n",
              "      <td>1.0</td>\n",
              "      <td>1.0</td>\n",
              "      <td>1.0</td>\n",
              "      <td>1.0</td>\n",
              "      <td>1.0</td>\n",
              "      <td>1.0</td>\n",
              "      <td>1.0</td>\n",
              "      <td>1</td>\n",
              "      <td>0.000000</td>\n",
              "      <td>0.0</td>\n",
              "      <td>1.0</td>\n",
              "      <td>1.0</td>\n",
              "      <td>0.000000</td>\n",
              "      <td>0</td>\n",
              "      <td>1</td>\n",
              "      <td>1.0</td>\n",
              "      <td>1</td>\n",
              "      <td>0.0</td>\n",
              "      <td>0.000000</td>\n",
              "      <td>1.0</td>\n",
              "      <td>1.0</td>\n",
              "      <td>0</td>\n",
              "      <td>0.0</td>\n",
              "      <td>1.0</td>\n",
              "      <td>0.0</td>\n",
              "      <td>1.0</td>\n",
              "      <td>0</td>\n",
              "      <td>0</td>\n",
              "      <td>0.0</td>\n",
              "      <td>1.0</td>\n",
              "      <td>0</td>\n",
              "      <td>0.0</td>\n",
              "      <td>0.0</td>\n",
              "      <td>0</td>\n",
              "      <td>1</td>\n",
              "      <td>0</td>\n",
              "    </tr>\n",
              "  </tbody>\n",
              "</table>\n",
              "</div>"
            ],
            "text/plain": [
              "     review_length  ...  RestaurantsPriceRange_3.0\n",
              "9         0.039815  ...                          0\n",
              "164       0.018076  ...                          0\n",
              "296       0.010560  ...                          0\n",
              "408       0.000000  ...                          0\n",
              "482       0.000000  ...                          0\n",
              "\n",
              "[5 rows x 50 columns]"
            ]
          },
          "metadata": {},
          "execution_count": 13
        }
      ]
    },
    {
      "cell_type": "code",
      "metadata": {
        "id": "XD6l5cAFzAtI"
      },
      "source": [
        "pass_test_data = test_scaled[test_scaled.pass_fail_flag == 0].iloc[:,1:].reset_index(drop=True)\n",
        "fail_test_data = test_scaled[test_scaled.pass_fail_flag == 1].iloc[:,1:].reset_index(drop=True)"
      ],
      "execution_count": 14,
      "outputs": []
    },
    {
      "cell_type": "code",
      "metadata": {
        "colab": {
          "base_uri": "https://localhost:8080/"
        },
        "id": "yxXlSCGkPqbs",
        "outputId": "ee3d640e-0908-4c47-b108-7e4a96f0bf49"
      },
      "source": [
        "pass_train_data.shape"
      ],
      "execution_count": 15,
      "outputs": [
        {
          "output_type": "execute_result",
          "data": {
            "text/plain": [
              "(4619, 50)"
            ]
          },
          "metadata": {},
          "execution_count": 15
        }
      ]
    },
    {
      "cell_type": "markdown",
      "metadata": {
        "id": "PqCA0-xKu758"
      },
      "source": [
        "## Building AutoEncoder"
      ]
    },
    {
      "cell_type": "code",
      "metadata": {
        "id": "lWkq6bTHzT1E"
      },
      "source": [
        "model = tf.keras.Sequential()\n",
        "model.add(tf.keras.layers.Dense(25, activation='relu'))\n",
        "model.add(tf.keras.layers.Dense(12, activation='relu'))\n",
        "model.add(tf.keras.layers.Dense(6, activation='relu'))\n",
        "model.add(tf.keras.layers.Dense(12, activation='relu'))\n",
        "model.add(tf.keras.layers.Dense(25, activation='relu'))\n",
        "model.add(tf.keras.layers.Dense(50, activation='sigmoid'))\n",
        "\n",
        "#https://www.youtube.com/watch?v=S31E-ftRfQI&list=PLbxRL2wtmn7rENj4iA3FC5VE4LNvIweqs&index=2"
      ],
      "execution_count": 16,
      "outputs": []
    },
    {
      "cell_type": "code",
      "metadata": {
        "id": "cECctgzCNGwq"
      },
      "source": [
        "class AutoEncoder(Model):\n",
        "  def __init__(self):\n",
        "    super(AutoEncoder, self).__init__()\n",
        "    self.encoder = tf.keras.Sequential([\n",
        "      tf.keras.layers.Dense(25,activation='relu'),\n",
        "      tf.keras.layers.Dense(12,activation='relu'),\n",
        "      tf.keras.layers.Dense(6,activation='relu')])\n",
        "    \n",
        "    self.decoder = tf.keras.Sequential([\n",
        "      tf.keras.layers.Dense(12,activation='relu'),\n",
        "      tf.keras.layers.Dense(25,activation='relu'),\n",
        "      tf.keras.layers.Dense(50,activation='sigmoid')])\n",
        "    \n",
        "  def call(self, x):\n",
        "    encoded = self.encoder(x)\n",
        "    decoded = self.decoder(encoded)\n",
        "    return decoded\n",
        "\n",
        "# https://www.youtube.com/watch?v=S31E-ftRfQI&list=PLbxRL2wtmn7rENj4iA3FC5VE4LNvIweqs&index=2"
      ],
      "execution_count": 17,
      "outputs": []
    },
    {
      "cell_type": "code",
      "metadata": {
        "id": "j08VPASEWata"
      },
      "source": [
        "model = AutoEncoder()\n",
        "early_stop = tf.keras.callbacks.EarlyStopping(monitor='val_loss', patience=2, mode='min')\n",
        "\n",
        "model.compile(optimizer='adam', loss='mean_squared_error')\n",
        "\n",
        "#https://www.datacamp.com/community/tutorials/autoencoder-keras-tutorial"
      ],
      "execution_count": 18,
      "outputs": []
    },
    {
      "cell_type": "code",
      "metadata": {
        "colab": {
          "base_uri": "https://localhost:8080/"
        },
        "id": "z8lmcJDWc1ko",
        "outputId": "cf3220f8-9d38-4d94-bdb7-db6607bbd080"
      },
      "source": [
        "ae = model.fit(pass_train_data, pass_train_data,\n",
        "               epochs = 20,\n",
        "               batch_size = 100,\n",
        "               validation_data = (train_scaled.iloc[:,1:], train_scaled.iloc[:,1:]),\n",
        "               shuffle = True,\n",
        "               callbacks = [early_stop])"
      ],
      "execution_count": 19,
      "outputs": [
        {
          "output_type": "stream",
          "name": "stdout",
          "text": [
            "Epoch 1/20\n",
            "47/47 [==============================] - 1s 10ms/step - loss: 0.2152 - val_loss: 0.1791\n",
            "Epoch 2/20\n",
            "47/47 [==============================] - 0s 3ms/step - loss: 0.1487 - val_loss: 0.1295\n",
            "Epoch 3/20\n",
            "47/47 [==============================] - 0s 3ms/step - loss: 0.1217 - val_loss: 0.1149\n",
            "Epoch 4/20\n",
            "47/47 [==============================] - 0s 3ms/step - loss: 0.1110 - val_loss: 0.1069\n",
            "Epoch 5/20\n",
            "47/47 [==============================] - 0s 4ms/step - loss: 0.1037 - val_loss: 0.1003\n",
            "Epoch 6/20\n",
            "47/47 [==============================] - 0s 4ms/step - loss: 0.0977 - val_loss: 0.0943\n",
            "Epoch 7/20\n",
            "47/47 [==============================] - 0s 3ms/step - loss: 0.0914 - val_loss: 0.0882\n",
            "Epoch 8/20\n",
            "47/47 [==============================] - 0s 3ms/step - loss: 0.0863 - val_loss: 0.0843\n",
            "Epoch 9/20\n",
            "47/47 [==============================] - 0s 4ms/step - loss: 0.0830 - val_loss: 0.0816\n",
            "Epoch 10/20\n",
            "47/47 [==============================] - 0s 3ms/step - loss: 0.0806 - val_loss: 0.0797\n",
            "Epoch 11/20\n",
            "47/47 [==============================] - 0s 8ms/step - loss: 0.0787 - val_loss: 0.0774\n",
            "Epoch 12/20\n",
            "47/47 [==============================] - 0s 3ms/step - loss: 0.0768 - val_loss: 0.0759\n",
            "Epoch 13/20\n",
            "47/47 [==============================] - 0s 4ms/step - loss: 0.0753 - val_loss: 0.0749\n",
            "Epoch 14/20\n",
            "47/47 [==============================] - 0s 3ms/step - loss: 0.0739 - val_loss: 0.0734\n",
            "Epoch 15/20\n",
            "47/47 [==============================] - 0s 4ms/step - loss: 0.0730 - val_loss: 0.0722\n",
            "Epoch 16/20\n",
            "47/47 [==============================] - 0s 4ms/step - loss: 0.0719 - val_loss: 0.0718\n",
            "Epoch 17/20\n",
            "47/47 [==============================] - 0s 4ms/step - loss: 0.0712 - val_loss: 0.0704\n",
            "Epoch 18/20\n",
            "47/47 [==============================] - 0s 4ms/step - loss: 0.0699 - val_loss: 0.0693\n",
            "Epoch 19/20\n",
            "47/47 [==============================] - 0s 3ms/step - loss: 0.0688 - val_loss: 0.0683\n",
            "Epoch 20/20\n",
            "47/47 [==============================] - 0s 4ms/step - loss: 0.0677 - val_loss: 0.0675\n"
          ]
        }
      ]
    },
    {
      "cell_type": "code",
      "metadata": {
        "colab": {
          "base_uri": "https://localhost:8080/",
          "height": 241
        },
        "id": "_DUZicEWimdv",
        "outputId": "5c33621a-d70e-43ba-8aa8-724264be433a"
      },
      "source": [
        "pass_test_data.head()"
      ],
      "execution_count": 20,
      "outputs": [
        {
          "output_type": "execute_result",
          "data": {
            "text/html": [
              "<div>\n",
              "<style scoped>\n",
              "    .dataframe tbody tr th:only-of-type {\n",
              "        vertical-align: middle;\n",
              "    }\n",
              "\n",
              "    .dataframe tbody tr th {\n",
              "        vertical-align: top;\n",
              "    }\n",
              "\n",
              "    .dataframe thead th {\n",
              "        text-align: right;\n",
              "    }\n",
              "</style>\n",
              "<table border=\"1\" class=\"dataframe\">\n",
              "  <thead>\n",
              "    <tr style=\"text-align: right;\">\n",
              "      <th></th>\n",
              "      <th>review_length</th>\n",
              "      <th>review_word_count</th>\n",
              "      <th>reviews_count</th>\n",
              "      <th>stars</th>\n",
              "      <th>useful_sum</th>\n",
              "      <th>stars_5.0_sum</th>\n",
              "      <th>cool_sum</th>\n",
              "      <th>RestaurantsPriceRange2</th>\n",
              "      <th>funny_sum</th>\n",
              "      <th>Restaurants</th>\n",
              "      <th>BusinessAcceptsCreditCards</th>\n",
              "      <th>Smoking_0</th>\n",
              "      <th>RestaurantsTakeOut</th>\n",
              "      <th>stars_4.0_sum</th>\n",
              "      <th>RestaurantsGoodForGroups</th>\n",
              "      <th>GoodForKids</th>\n",
              "      <th>BikeParking</th>\n",
              "      <th>lot</th>\n",
              "      <th>HasTV</th>\n",
              "      <th>RestaurantsDelivery</th>\n",
              "      <th>casual</th>\n",
              "      <th>NoiseLevel_u'average'</th>\n",
              "      <th>stars_1.0_sum</th>\n",
              "      <th>OutdoorSeating</th>\n",
              "      <th>lunch</th>\n",
              "      <th>Caters</th>\n",
              "      <th>stars_3.0_sum</th>\n",
              "      <th>RestaurantsAttire_'casual'</th>\n",
              "      <th>RestaurantsAttire_u'casual'</th>\n",
              "      <th>dinner</th>\n",
              "      <th>WiFi_u'free'</th>\n",
              "      <th>WheelchairAccessible</th>\n",
              "      <th>stars_2.0_sum</th>\n",
              "      <th>HappyHour</th>\n",
              "      <th>classy</th>\n",
              "      <th>Alcohol_u'none'</th>\n",
              "      <th>RestaurantsTableService</th>\n",
              "      <th>street</th>\n",
              "      <th>RestaurantsReservations</th>\n",
              "      <th>Bars</th>\n",
              "      <th>WiFi_u'no'</th>\n",
              "      <th>Alcohol_u'full_bar'</th>\n",
              "      <th>Mexican</th>\n",
              "      <th>Nightlife</th>\n",
              "      <th>NoiseLevel_0</th>\n",
              "      <th>DogsAllowed</th>\n",
              "      <th>Breakfast &amp; Brunch</th>\n",
              "      <th>RestaurantsPriceRange_1.0</th>\n",
              "      <th>RestaurantsPriceRange_2.0</th>\n",
              "      <th>RestaurantsPriceRange_3.0</th>\n",
              "    </tr>\n",
              "  </thead>\n",
              "  <tbody>\n",
              "    <tr>\n",
              "      <th>0</th>\n",
              "      <td>0.021689</td>\n",
              "      <td>0.020042</td>\n",
              "      <td>0.008065</td>\n",
              "      <td>0.571429</td>\n",
              "      <td>0.000000</td>\n",
              "      <td>0.005348</td>\n",
              "      <td>0.000000</td>\n",
              "      <td>0.25</td>\n",
              "      <td>0.000000</td>\n",
              "      <td>1.0</td>\n",
              "      <td>1.0</td>\n",
              "      <td>1</td>\n",
              "      <td>1.0</td>\n",
              "      <td>0.022222</td>\n",
              "      <td>1.0</td>\n",
              "      <td>1.0</td>\n",
              "      <td>1.0</td>\n",
              "      <td>1.0</td>\n",
              "      <td>0.0</td>\n",
              "      <td>0.0</td>\n",
              "      <td>1.0</td>\n",
              "      <td>1</td>\n",
              "      <td>0.000000</td>\n",
              "      <td>1.0</td>\n",
              "      <td>1.0</td>\n",
              "      <td>0.0</td>\n",
              "      <td>0.0</td>\n",
              "      <td>1</td>\n",
              "      <td>0</td>\n",
              "      <td>0.0</td>\n",
              "      <td>0</td>\n",
              "      <td>0.0</td>\n",
              "      <td>0.0</td>\n",
              "      <td>0.0</td>\n",
              "      <td>0.0</td>\n",
              "      <td>1</td>\n",
              "      <td>1.0</td>\n",
              "      <td>1.0</td>\n",
              "      <td>0.0</td>\n",
              "      <td>1.0</td>\n",
              "      <td>0</td>\n",
              "      <td>0</td>\n",
              "      <td>0.0</td>\n",
              "      <td>1.0</td>\n",
              "      <td>0</td>\n",
              "      <td>0.0</td>\n",
              "      <td>1.0</td>\n",
              "      <td>1</td>\n",
              "      <td>0</td>\n",
              "      <td>0</td>\n",
              "    </tr>\n",
              "    <tr>\n",
              "      <th>1</th>\n",
              "      <td>0.030766</td>\n",
              "      <td>0.029896</td>\n",
              "      <td>0.008065</td>\n",
              "      <td>0.428571</td>\n",
              "      <td>0.000000</td>\n",
              "      <td>0.000000</td>\n",
              "      <td>0.000000</td>\n",
              "      <td>0.25</td>\n",
              "      <td>0.000000</td>\n",
              "      <td>1.0</td>\n",
              "      <td>1.0</td>\n",
              "      <td>1</td>\n",
              "      <td>1.0</td>\n",
              "      <td>0.022222</td>\n",
              "      <td>0.0</td>\n",
              "      <td>0.0</td>\n",
              "      <td>1.0</td>\n",
              "      <td>1.0</td>\n",
              "      <td>0.0</td>\n",
              "      <td>1.0</td>\n",
              "      <td>0.0</td>\n",
              "      <td>0</td>\n",
              "      <td>0.035714</td>\n",
              "      <td>0.0</td>\n",
              "      <td>0.0</td>\n",
              "      <td>1.0</td>\n",
              "      <td>0.0</td>\n",
              "      <td>0</td>\n",
              "      <td>0</td>\n",
              "      <td>0.0</td>\n",
              "      <td>0</td>\n",
              "      <td>0.0</td>\n",
              "      <td>0.0</td>\n",
              "      <td>0.0</td>\n",
              "      <td>0.0</td>\n",
              "      <td>0</td>\n",
              "      <td>0.0</td>\n",
              "      <td>0.0</td>\n",
              "      <td>0.0</td>\n",
              "      <td>0.0</td>\n",
              "      <td>0</td>\n",
              "      <td>0</td>\n",
              "      <td>0.0</td>\n",
              "      <td>0.0</td>\n",
              "      <td>1</td>\n",
              "      <td>0.0</td>\n",
              "      <td>0.0</td>\n",
              "      <td>1</td>\n",
              "      <td>0</td>\n",
              "      <td>0</td>\n",
              "    </tr>\n",
              "    <tr>\n",
              "      <th>2</th>\n",
              "      <td>0.044780</td>\n",
              "      <td>0.041587</td>\n",
              "      <td>0.020161</td>\n",
              "      <td>0.714286</td>\n",
              "      <td>0.033898</td>\n",
              "      <td>0.021390</td>\n",
              "      <td>0.029557</td>\n",
              "      <td>0.50</td>\n",
              "      <td>0.034247</td>\n",
              "      <td>1.0</td>\n",
              "      <td>1.0</td>\n",
              "      <td>1</td>\n",
              "      <td>1.0</td>\n",
              "      <td>0.022222</td>\n",
              "      <td>1.0</td>\n",
              "      <td>1.0</td>\n",
              "      <td>1.0</td>\n",
              "      <td>1.0</td>\n",
              "      <td>1.0</td>\n",
              "      <td>0.0</td>\n",
              "      <td>1.0</td>\n",
              "      <td>1</td>\n",
              "      <td>0.000000</td>\n",
              "      <td>1.0</td>\n",
              "      <td>1.0</td>\n",
              "      <td>1.0</td>\n",
              "      <td>0.0</td>\n",
              "      <td>0</td>\n",
              "      <td>1</td>\n",
              "      <td>1.0</td>\n",
              "      <td>0</td>\n",
              "      <td>0.0</td>\n",
              "      <td>0.0</td>\n",
              "      <td>0.0</td>\n",
              "      <td>0.0</td>\n",
              "      <td>0</td>\n",
              "      <td>1.0</td>\n",
              "      <td>0.0</td>\n",
              "      <td>1.0</td>\n",
              "      <td>0.0</td>\n",
              "      <td>0</td>\n",
              "      <td>1</td>\n",
              "      <td>0.0</td>\n",
              "      <td>0.0</td>\n",
              "      <td>0</td>\n",
              "      <td>1.0</td>\n",
              "      <td>0.0</td>\n",
              "      <td>0</td>\n",
              "      <td>1</td>\n",
              "      <td>0</td>\n",
              "    </tr>\n",
              "    <tr>\n",
              "      <th>3</th>\n",
              "      <td>0.008249</td>\n",
              "      <td>0.007516</td>\n",
              "      <td>0.004032</td>\n",
              "      <td>0.571429</td>\n",
              "      <td>0.000000</td>\n",
              "      <td>0.005348</td>\n",
              "      <td>0.000000</td>\n",
              "      <td>0.25</td>\n",
              "      <td>0.000000</td>\n",
              "      <td>1.0</td>\n",
              "      <td>1.0</td>\n",
              "      <td>1</td>\n",
              "      <td>1.0</td>\n",
              "      <td>0.000000</td>\n",
              "      <td>1.0</td>\n",
              "      <td>1.0</td>\n",
              "      <td>1.0</td>\n",
              "      <td>1.0</td>\n",
              "      <td>1.0</td>\n",
              "      <td>0.0</td>\n",
              "      <td>1.0</td>\n",
              "      <td>1</td>\n",
              "      <td>0.000000</td>\n",
              "      <td>1.0</td>\n",
              "      <td>1.0</td>\n",
              "      <td>1.0</td>\n",
              "      <td>0.0</td>\n",
              "      <td>1</td>\n",
              "      <td>0</td>\n",
              "      <td>0.0</td>\n",
              "      <td>0</td>\n",
              "      <td>0.0</td>\n",
              "      <td>0.0</td>\n",
              "      <td>0.0</td>\n",
              "      <td>0.0</td>\n",
              "      <td>1</td>\n",
              "      <td>0.0</td>\n",
              "      <td>0.0</td>\n",
              "      <td>0.0</td>\n",
              "      <td>0.0</td>\n",
              "      <td>0</td>\n",
              "      <td>0</td>\n",
              "      <td>1.0</td>\n",
              "      <td>0.0</td>\n",
              "      <td>0</td>\n",
              "      <td>0.0</td>\n",
              "      <td>0.0</td>\n",
              "      <td>1</td>\n",
              "      <td>0</td>\n",
              "      <td>0</td>\n",
              "    </tr>\n",
              "    <tr>\n",
              "      <th>4</th>\n",
              "      <td>0.000000</td>\n",
              "      <td>0.000000</td>\n",
              "      <td>0.000000</td>\n",
              "      <td>0.428571</td>\n",
              "      <td>0.000000</td>\n",
              "      <td>0.000000</td>\n",
              "      <td>0.000000</td>\n",
              "      <td>0.25</td>\n",
              "      <td>0.000000</td>\n",
              "      <td>1.0</td>\n",
              "      <td>1.0</td>\n",
              "      <td>1</td>\n",
              "      <td>1.0</td>\n",
              "      <td>0.000000</td>\n",
              "      <td>1.0</td>\n",
              "      <td>1.0</td>\n",
              "      <td>1.0</td>\n",
              "      <td>1.0</td>\n",
              "      <td>1.0</td>\n",
              "      <td>1.0</td>\n",
              "      <td>0.0</td>\n",
              "      <td>0</td>\n",
              "      <td>0.000000</td>\n",
              "      <td>0.0</td>\n",
              "      <td>0.0</td>\n",
              "      <td>0.0</td>\n",
              "      <td>0.0</td>\n",
              "      <td>1</td>\n",
              "      <td>0</td>\n",
              "      <td>0.0</td>\n",
              "      <td>0</td>\n",
              "      <td>0.0</td>\n",
              "      <td>0.0</td>\n",
              "      <td>0.0</td>\n",
              "      <td>0.0</td>\n",
              "      <td>0</td>\n",
              "      <td>0.0</td>\n",
              "      <td>0.0</td>\n",
              "      <td>0.0</td>\n",
              "      <td>0.0</td>\n",
              "      <td>0</td>\n",
              "      <td>0</td>\n",
              "      <td>0.0</td>\n",
              "      <td>0.0</td>\n",
              "      <td>0</td>\n",
              "      <td>0.0</td>\n",
              "      <td>0.0</td>\n",
              "      <td>1</td>\n",
              "      <td>0</td>\n",
              "      <td>0</td>\n",
              "    </tr>\n",
              "  </tbody>\n",
              "</table>\n",
              "</div>"
            ],
            "text/plain": [
              "   review_length  ...  RestaurantsPriceRange_3.0\n",
              "0       0.021689  ...                          0\n",
              "1       0.030766  ...                          0\n",
              "2       0.044780  ...                          0\n",
              "3       0.008249  ...                          0\n",
              "4       0.000000  ...                          0\n",
              "\n",
              "[5 rows x 50 columns]"
            ]
          },
          "metadata": {},
          "execution_count": 20
        }
      ]
    },
    {
      "cell_type": "code",
      "metadata": {
        "colab": {
          "base_uri": "https://localhost:8080/"
        },
        "id": "ThDeeSj6ka0V",
        "outputId": "1b403871-53f5-4a61-9c39-8069e3080c8e"
      },
      "source": [
        "pass_test_data.dtypes"
      ],
      "execution_count": 21,
      "outputs": [
        {
          "output_type": "execute_result",
          "data": {
            "text/plain": [
              "review_length                  float64\n",
              "review_word_count              float64\n",
              "reviews_count                  float64\n",
              "stars                          float64\n",
              "useful_sum                     float64\n",
              "stars_5.0_sum                  float64\n",
              "cool_sum                       float64\n",
              "RestaurantsPriceRange2         float64\n",
              "funny_sum                      float64\n",
              "Restaurants                    float64\n",
              "BusinessAcceptsCreditCards     float64\n",
              "Smoking_0                        int64\n",
              "RestaurantsTakeOut             float64\n",
              "stars_4.0_sum                  float64\n",
              "RestaurantsGoodForGroups       float64\n",
              "GoodForKids                    float64\n",
              "BikeParking                    float64\n",
              "lot                            float64\n",
              "HasTV                          float64\n",
              "RestaurantsDelivery            float64\n",
              "casual                         float64\n",
              "NoiseLevel_u'average'            int64\n",
              "stars_1.0_sum                  float64\n",
              "OutdoorSeating                 float64\n",
              "lunch                          float64\n",
              "Caters                         float64\n",
              "stars_3.0_sum                  float64\n",
              "RestaurantsAttire_'casual'       int64\n",
              "RestaurantsAttire_u'casual'      int64\n",
              "dinner                         float64\n",
              "WiFi_u'free'                     int64\n",
              "WheelchairAccessible           float64\n",
              "stars_2.0_sum                  float64\n",
              "HappyHour                      float64\n",
              "classy                         float64\n",
              "Alcohol_u'none'                  int64\n",
              "RestaurantsTableService        float64\n",
              "street                         float64\n",
              "RestaurantsReservations        float64\n",
              "Bars                           float64\n",
              "WiFi_u'no'                       int64\n",
              "Alcohol_u'full_bar'              int64\n",
              "Mexican                        float64\n",
              "Nightlife                      float64\n",
              "NoiseLevel_0                     int64\n",
              "DogsAllowed                    float64\n",
              "Breakfast & Brunch             float64\n",
              "RestaurantsPriceRange_1.0        int64\n",
              "RestaurantsPriceRange_2.0        int64\n",
              "RestaurantsPriceRange_3.0        int64\n",
              "dtype: object"
            ]
          },
          "metadata": {},
          "execution_count": 21
        }
      ]
    },
    {
      "cell_type": "code",
      "metadata": {
        "id": "TcCf_ZBnlDFp"
      },
      "source": [
        "#pass_test_data[pass_test_data.isna().any(axis=1)]\n",
        "#pass_train_data.to_numpy()"
      ],
      "execution_count": 22,
      "outputs": []
    },
    {
      "cell_type": "code",
      "metadata": {
        "id": "IiJbZURVeOjR"
      },
      "source": [
        "encoder_out = model.encoder(pass_train_data.to_numpy())\n",
        "decoder_out = model.decoder(encoder_out)"
      ],
      "execution_count": 23,
      "outputs": []
    },
    {
      "cell_type": "code",
      "metadata": {
        "colab": {
          "base_uri": "https://localhost:8080/"
        },
        "id": "oYlnesxRiW3V",
        "outputId": "b579f3ca-c900-44fd-ff38-ab103c58f1e9"
      },
      "source": [
        "print(encoder_out.shape)\n",
        "print(decoder_out.shape)"
      ],
      "execution_count": 24,
      "outputs": [
        {
          "output_type": "stream",
          "name": "stdout",
          "text": [
            "(4619, 6)\n",
            "(4619, 50)\n"
          ]
        }
      ]
    },
    {
      "cell_type": "code",
      "metadata": {
        "colab": {
          "base_uri": "https://localhost:8080/",
          "height": 283
        },
        "id": "Z58bqPdcq9OK",
        "outputId": "f3a3574d-0712-4e6b-f7de-aab5c30b75cc"
      },
      "source": [
        "plt.plot(pass_test_data.iloc[0],'b')\n",
        "plt.plot(decoder_out[0],'r')"
      ],
      "execution_count": 25,
      "outputs": [
        {
          "output_type": "execute_result",
          "data": {
            "text/plain": [
              "[<matplotlib.lines.Line2D at 0x7ff45cc9bad0>]"
            ]
          },
          "metadata": {},
          "execution_count": 25
        },
        {
          "output_type": "display_data",
          "data": {
            "image/png": "[encoded data removed]",
            "text/plain": [
              "<Figure size 432x288 with 1 Axes>"
            ]
          },
          "metadata": {
            "needs_background": "light"
          }
        }
      ]
    },
    {
      "cell_type": "code",
      "metadata": {
        "id": "dSN8nktDq_UO"
      },
      "source": [
        "encoder_out = model.encoder(fail_train_data.to_numpy())\n",
        "decoder_out = model.decoder(encoder_out)"
      ],
      "execution_count": 26,
      "outputs": []
    },
    {
      "cell_type": "code",
      "metadata": {
        "colab": {
          "base_uri": "https://localhost:8080/",
          "height": 283
        },
        "id": "03-OFnePrqhL",
        "outputId": "907e0965-9e0f-4bfc-9fbb-12e12df3d6de"
      },
      "source": [
        "plt.plot(pass_test_data.iloc[0],'b')\n",
        "plt.plot(decoder_out[0],'r')"
      ],
      "execution_count": 27,
      "outputs": [
        {
          "output_type": "execute_result",
          "data": {
            "text/plain": [
              "[<matplotlib.lines.Line2D at 0x7ff460ec0790>]"
            ]
          },
          "metadata": {},
          "execution_count": 27
        },
        {
          "output_type": "display_data",
          "data": {
            "image/png": "[encoded data removed]",
            "text/plain": [
              "<Figure size 432x288 with 1 Axes>"
            ]
          },
          "metadata": {
            "needs_background": "light"
          }
        }
      ]
    },
    {
      "cell_type": "code",
      "metadata": {
        "colab": {
          "base_uri": "https://localhost:8080/",
          "height": 452
        },
        "id": "ruuRC6rxrs5m",
        "outputId": "dfd65cfd-b12a-4567-bee1-84a60253d66a"
      },
      "source": [
        "reconstruct = model.predict(pass_test_data)\n",
        "train_loss = tf.keras.losses.mean_squared_error(reconstruct, pass_test_data)\n",
        "\n",
        "plt.hist(train_loss, bins=30)"
      ],
      "execution_count": 28,
      "outputs": [
        {
          "output_type": "execute_result",
          "data": {
            "text/plain": [
              "(array([ 17.,  43.,  84.,  85.,  87., 119., 109., 122., 108.,  74.,  79.,\n",
              "         55.,  51.,  34.,  18.,  28.,  17.,  12.,   5.,   5.,   0.,   0.,\n",
              "          1.,   2.,   0.,   1.,   0.,   0.,   0.,   1.]),\n",
              " array([0.00970201, 0.01718074, 0.02465948, 0.03213821, 0.03961694,\n",
              "        0.04709567, 0.0545744 , 0.06205313, 0.06953186, 0.07701059,\n",
              "        0.08448932, 0.09196805, 0.09944679, 0.10692552, 0.11440425,\n",
              "        0.12188298, 0.12936171, 0.13684044, 0.14431917, 0.1517979 ,\n",
              "        0.15927663, 0.16675536, 0.17423409, 0.18171283, 0.18919156,\n",
              "        0.19667029, 0.20414902, 0.21162775, 0.21910648, 0.22658521,\n",
              "        0.23406394]),\n",
              " <a list of 30 Patch objects>)"
            ]
          },
          "metadata": {},
          "execution_count": 28
        },
        {
          "output_type": "display_data",
          "data": {
            "image/png": "[encoded data removed]",
            "text/plain": [
              "<Figure size 432x288 with 1 Axes>"
            ]
          },
          "metadata": {
            "needs_background": "light"
          }
        }
      ]
    },
    {
      "cell_type": "code",
      "metadata": {
        "colab": {
          "base_uri": "https://localhost:8080/"
        },
        "id": "8olq2VFgsXW2",
        "outputId": "383c7c22-6f1b-4939-85cd-ab88653f692b"
      },
      "source": [
        "print(np.mean(train_loss))\n",
        "print(np.std(train_loss))\n"
      ],
      "execution_count": 29,
      "outputs": [
        {
          "output_type": "stream",
          "name": "stdout",
          "text": [
            "0.06737602257673937\n",
            "0.030714728148663804\n"
          ]
        }
      ]
    },
    {
      "cell_type": "code",
      "metadata": {
        "colab": {
          "base_uri": "https://localhost:8080/"
        },
        "id": "dASjWxgmsu8c",
        "outputId": "171905a6-63fd-4bcd-a535-d0928efca47d"
      },
      "source": [
        "_2sigma_boundary = np.mean(train_loss) + 2*np.std(train_loss)\n",
        "_2sigma_boundary"
      ],
      "execution_count": 30,
      "outputs": [
        {
          "output_type": "execute_result",
          "data": {
            "text/plain": [
              "0.128805478874067"
            ]
          },
          "metadata": {},
          "execution_count": 30
        }
      ]
    },
    {
      "cell_type": "code",
      "metadata": {
        "colab": {
          "base_uri": "https://localhost:8080/",
          "height": 435
        },
        "id": "Dl6EKsdPs_NK",
        "outputId": "d3c07a12-3b51-40f1-97a0-312cefbb7c04"
      },
      "source": [
        "reconstruct_f = model.predict(fail_test_data)\n",
        "train_loss_f = tf.keras.losses.mean_squared_error(reconstruct_f, fail_test_data)\n",
        "\n",
        "plt.hist(train_loss_f, bins = 30)"
      ],
      "execution_count": 32,
      "outputs": [
        {
          "output_type": "execute_result",
          "data": {
            "text/plain": [
              "(array([1., 0., 1., 0., 0., 0., 0., 0., 1., 0., 0., 0., 0., 1., 1., 0., 0.,\n",
              "        1., 0., 0., 1., 0., 0., 0., 0., 0., 0., 0., 0., 1.]),\n",
              " array([0.05273545, 0.05492574, 0.05711604, 0.05930634, 0.06149663,\n",
              "        0.06368693, 0.06587722, 0.06806752, 0.07025782, 0.07244811,\n",
              "        0.07463841, 0.07682871, 0.079019  , 0.0812093 , 0.0833996 ,\n",
              "        0.08558989, 0.08778019, 0.08997049, 0.09216078, 0.09435108,\n",
              "        0.09654138, 0.09873167, 0.10092197, 0.10311227, 0.10530256,\n",
              "        0.10749286, 0.10968315, 0.11187345, 0.11406375, 0.11625404,\n",
              "        0.11844434]),\n",
              " <a list of 30 Patch objects>)"
            ]
          },
          "metadata": {},
          "execution_count": 32
        },
        {
          "output_type": "display_data",
          "data": {
            "image/png": "[encoded data removed]",
            "text/plain": [
              "<Figure size 432x288 with 1 Axes>"
            ]
          },
          "metadata": {
            "needs_background": "light"
          }
        }
      ]
    },
    {
      "cell_type": "code",
      "metadata": {
        "colab": {
          "base_uri": "https://localhost:8080/"
        },
        "id": "Os6Yn3Entirv",
        "outputId": "59bbfd9b-f368-42a9-9997-adc9ba7ac53a"
      },
      "source": [
        "print(np.mean(train_loss_f))\n",
        "print(np.std(train_loss_f))"
      ],
      "execution_count": 33,
      "outputs": [
        {
          "output_type": "stream",
          "name": "stdout",
          "text": [
            "0.08228791946949124\n",
            "0.020114417292958323\n"
          ]
        }
      ]
    },
    {
      "cell_type": "code",
      "metadata": {
        "colab": {
          "base_uri": "https://localhost:8080/",
          "height": 265
        },
        "id": "MyE24vvjt_5f",
        "outputId": "6a9cff04-69c0-4ba0-d901-21387ad291cd"
      },
      "source": [
        "plt.hist(train_loss,bins=50, label = 'Pass')\n",
        "plt.hist(train_loss_f,bins=50, label = 'Fail')\n",
        "\n",
        "plt.axvline(_2sigma_boundary, color = 'r', linewidth =3, linestyle='dashed', label ='{:0.3f}'.format(_2sigma_boundary))\n",
        "\n",
        "plt.legend(loc='lower right')\n",
        "plt.show()"
      ],
      "execution_count": 34,
      "outputs": [
        {
          "output_type": "display_data",
          "data": {
            "image/png": "[encoded data removed]",
            "text/plain": [
              "<Figure size 432x288 with 1 Axes>"
            ]
          },
          "metadata": {
            "needs_background": "light"
          }
        }
      ]
    },
    {
      "cell_type": "code",
      "metadata": {
        "id": "YlavpYdsuQ3O"
      },
      "source": [
        "preds = tf.math.greater(train_loss_f, _2sigma_boundary)"
      ],
      "execution_count": 35,
      "outputs": []
    },
    {
      "cell_type": "code",
      "metadata": {
        "colab": {
          "base_uri": "https://localhost:8080/"
        },
        "id": "5B7HCSMdxuJL",
        "outputId": "5d64910a-dbf0-4337-a50a-98f42f18cc90"
      },
      "source": [
        "tf.math.count_nonzero(preds)"
      ],
      "execution_count": 36,
      "outputs": [
        {
          "output_type": "execute_result",
          "data": {
            "text/plain": [
              "<tf.Tensor: shape=(), dtype=int64, numpy=0>"
            ]
          },
          "metadata": {},
          "execution_count": 36
        }
      ]
    },
    {
      "cell_type": "code",
      "metadata": {
        "colab": {
          "base_uri": "https://localhost:8080/"
        },
        "id": "53-2_5AEyE56",
        "outputId": "fbfb90d3-160d-4e26-9316-3bd778bbbc34"
      },
      "source": [
        "preds.shape"
      ],
      "execution_count": 37,
      "outputs": [
        {
          "output_type": "execute_result",
          "data": {
            "text/plain": [
              "TensorShape([8])"
            ]
          },
          "metadata": {},
          "execution_count": 37
        }
      ]
    },
    {
      "cell_type": "code",
      "metadata": {
        "id": "iuA4ZUigyKET"
      },
      "source": [
        ""
      ],
      "execution_count": null,
      "outputs": []
    },
    {
      "cell_type": "markdown",
      "metadata": {
        "id": "PtbLNWMyuKh_"
      },
      "source": [
        "## Building Isolation Forest"
      ]
    },
    {
      "cell_type": "code",
      "metadata": {
        "id": "_IMsdh4IuxDY"
      },
      "source": [
        "X_train = pd.read_csv('/content/austin_restaurant_inspections_X_train.csv')\n",
        "X_test = pd.read_csv('/content/austin_restaurant_inspections_X_test.csv')\n",
        "y_train = pd.read_csv('/content/austin_restaurant_inspections_y_train.csv')\n",
        "y_test = pd.read_csv('/content/austin_restaurant_inspections_y_test.csv')"
      ],
      "execution_count": 41,
      "outputs": []
    },
    {
      "cell_type": "code",
      "metadata": {
        "colab": {
          "base_uri": "https://localhost:8080/",
          "height": 241
        },
        "id": "Qf3-81IqFU8E",
        "outputId": "0666db90-0d11-4f6c-e1d0-c47048b12263"
      },
      "source": [
        "X_train.head()"
      ],
      "execution_count": 42,
      "outputs": [
        {
          "output_type": "execute_result",
          "data": {
            "text/html": [
              "<div>\n",
              "<style scoped>\n",
              "    .dataframe tbody tr th:only-of-type {\n",
              "        vertical-align: middle;\n",
              "    }\n",
              "\n",
              "    .dataframe tbody tr th {\n",
              "        vertical-align: top;\n",
              "    }\n",
              "\n",
              "    .dataframe thead th {\n",
              "        text-align: right;\n",
              "    }\n",
              "</style>\n",
              "<table border=\"1\" class=\"dataframe\">\n",
              "  <thead>\n",
              "    <tr style=\"text-align: right;\">\n",
              "      <th></th>\n",
              "      <th>Unnamed: 0</th>\n",
              "      <th>review_length</th>\n",
              "      <th>review_word_count</th>\n",
              "      <th>Score</th>\n",
              "      <th>oldest_score</th>\n",
              "      <th>newest_score</th>\n",
              "      <th>reviews_count</th>\n",
              "      <th>stars</th>\n",
              "      <th>useful_sum</th>\n",
              "      <th>stars_5.0_sum</th>\n",
              "      <th>cool_sum</th>\n",
              "      <th>RestaurantsPriceRange2</th>\n",
              "      <th>funny_sum</th>\n",
              "      <th>Restaurants</th>\n",
              "      <th>BusinessAcceptsCreditCards</th>\n",
              "      <th>Smoking_0</th>\n",
              "      <th>RestaurantsTakeOut</th>\n",
              "      <th>is_open</th>\n",
              "      <th>stars_4.0_sum</th>\n",
              "      <th>RestaurantsGoodForGroups</th>\n",
              "      <th>GoodForKids</th>\n",
              "      <th>BikeParking</th>\n",
              "      <th>lot</th>\n",
              "      <th>HasTV</th>\n",
              "      <th>RestaurantsDelivery</th>\n",
              "      <th>casual</th>\n",
              "      <th>NoiseLevel_u'average'</th>\n",
              "      <th>stars_1.0_sum</th>\n",
              "      <th>OutdoorSeating</th>\n",
              "      <th>lunch</th>\n",
              "      <th>Caters</th>\n",
              "      <th>Food</th>\n",
              "      <th>stars_3.0_sum</th>\n",
              "      <th>RestaurantsAttire_'casual'</th>\n",
              "      <th>RestaurantsAttire_u'casual'</th>\n",
              "      <th>dinner</th>\n",
              "      <th>WiFi_u'free'</th>\n",
              "      <th>WheelchairAccessible</th>\n",
              "      <th>stars_2.0_sum</th>\n",
              "      <th>HappyHour</th>\n",
              "      <th>classy</th>\n",
              "      <th>Alcohol_u'none'</th>\n",
              "      <th>RestaurantsTableService</th>\n",
              "      <th>street</th>\n",
              "      <th>RestaurantsReservations</th>\n",
              "      <th>Bars</th>\n",
              "      <th>WiFi_u'no'</th>\n",
              "      <th>Alcohol_u'full_bar'</th>\n",
              "      <th>Mexican</th>\n",
              "      <th>Nightlife</th>\n",
              "      <th>NoiseLevel_0</th>\n",
              "      <th>DogsAllowed</th>\n",
              "      <th>Breakfast &amp; Brunch</th>\n",
              "      <th>RestaurantsPriceRange_0.0</th>\n",
              "      <th>RestaurantsPriceRange_1.0</th>\n",
              "      <th>RestaurantsPriceRange_2.0</th>\n",
              "      <th>RestaurantsPriceRange_3.0</th>\n",
              "    </tr>\n",
              "  </thead>\n",
              "  <tbody>\n",
              "    <tr>\n",
              "      <th>0</th>\n",
              "      <td>4153</td>\n",
              "      <td>1669.0</td>\n",
              "      <td>327.0</td>\n",
              "      <td>97.0</td>\n",
              "      <td>91.0</td>\n",
              "      <td>74.0</td>\n",
              "      <td>2.0</td>\n",
              "      <td>2.5</td>\n",
              "      <td>1.0</td>\n",
              "      <td>0.0</td>\n",
              "      <td>0.0</td>\n",
              "      <td>2</td>\n",
              "      <td>0.0</td>\n",
              "      <td>1.0</td>\n",
              "      <td>1.0</td>\n",
              "      <td>1</td>\n",
              "      <td>1.0</td>\n",
              "      <td>1.0</td>\n",
              "      <td>0.0</td>\n",
              "      <td>1.0</td>\n",
              "      <td>1.0</td>\n",
              "      <td>1.0</td>\n",
              "      <td>1.0</td>\n",
              "      <td>1.0</td>\n",
              "      <td>1.0</td>\n",
              "      <td>1.0</td>\n",
              "      <td>1</td>\n",
              "      <td>1.0</td>\n",
              "      <td>0.0</td>\n",
              "      <td>1.0</td>\n",
              "      <td>0.0</td>\n",
              "      <td>1.0</td>\n",
              "      <td>1.0</td>\n",
              "      <td>1</td>\n",
              "      <td>0</td>\n",
              "      <td>0.0</td>\n",
              "      <td>0</td>\n",
              "      <td>0.0</td>\n",
              "      <td>0.0</td>\n",
              "      <td>0.0</td>\n",
              "      <td>0.0</td>\n",
              "      <td>1</td>\n",
              "      <td>1.0</td>\n",
              "      <td>0.0</td>\n",
              "      <td>0.0</td>\n",
              "      <td>0.0</td>\n",
              "      <td>0</td>\n",
              "      <td>0</td>\n",
              "      <td>0.0</td>\n",
              "      <td>0.0</td>\n",
              "      <td>0</td>\n",
              "      <td>0.0</td>\n",
              "      <td>1.0</td>\n",
              "      <td>0</td>\n",
              "      <td>0</td>\n",
              "      <td>1</td>\n",
              "      <td>0</td>\n",
              "    </tr>\n",
              "    <tr>\n",
              "      <th>1</th>\n",
              "      <td>2528</td>\n",
              "      <td>7474.5</td>\n",
              "      <td>1351.5</td>\n",
              "      <td>84.0</td>\n",
              "      <td>79.0</td>\n",
              "      <td>86.0</td>\n",
              "      <td>17.0</td>\n",
              "      <td>4.0</td>\n",
              "      <td>8.0</td>\n",
              "      <td>7.0</td>\n",
              "      <td>7.0</td>\n",
              "      <td>2</td>\n",
              "      <td>5.0</td>\n",
              "      <td>1.0</td>\n",
              "      <td>1.0</td>\n",
              "      <td>1</td>\n",
              "      <td>1.0</td>\n",
              "      <td>1.0</td>\n",
              "      <td>5.0</td>\n",
              "      <td>1.0</td>\n",
              "      <td>1.0</td>\n",
              "      <td>1.0</td>\n",
              "      <td>0.0</td>\n",
              "      <td>0.0</td>\n",
              "      <td>0.0</td>\n",
              "      <td>1.0</td>\n",
              "      <td>1</td>\n",
              "      <td>3.0</td>\n",
              "      <td>0.0</td>\n",
              "      <td>0.0</td>\n",
              "      <td>0.0</td>\n",
              "      <td>0.0</td>\n",
              "      <td>2.0</td>\n",
              "      <td>1</td>\n",
              "      <td>0</td>\n",
              "      <td>0.0</td>\n",
              "      <td>1</td>\n",
              "      <td>0.0</td>\n",
              "      <td>0.0</td>\n",
              "      <td>0.0</td>\n",
              "      <td>1.0</td>\n",
              "      <td>0</td>\n",
              "      <td>1.0</td>\n",
              "      <td>1.0</td>\n",
              "      <td>0.0</td>\n",
              "      <td>0.0</td>\n",
              "      <td>0</td>\n",
              "      <td>1</td>\n",
              "      <td>0.0</td>\n",
              "      <td>0.0</td>\n",
              "      <td>0</td>\n",
              "      <td>1.0</td>\n",
              "      <td>1.0</td>\n",
              "      <td>0</td>\n",
              "      <td>0</td>\n",
              "      <td>1</td>\n",
              "      <td>0</td>\n",
              "    </tr>\n",
              "    <tr>\n",
              "      <th>2</th>\n",
              "      <td>5064</td>\n",
              "      <td>0.0</td>\n",
              "      <td>0.0</td>\n",
              "      <td>93.0</td>\n",
              "      <td>94.0</td>\n",
              "      <td>93.0</td>\n",
              "      <td>0.0</td>\n",
              "      <td>3.0</td>\n",
              "      <td>0.0</td>\n",
              "      <td>0.0</td>\n",
              "      <td>0.0</td>\n",
              "      <td>2</td>\n",
              "      <td>0.0</td>\n",
              "      <td>1.0</td>\n",
              "      <td>1.0</td>\n",
              "      <td>0</td>\n",
              "      <td>0.0</td>\n",
              "      <td>1.0</td>\n",
              "      <td>0.0</td>\n",
              "      <td>1.0</td>\n",
              "      <td>0.0</td>\n",
              "      <td>1.0</td>\n",
              "      <td>0.0</td>\n",
              "      <td>1.0</td>\n",
              "      <td>0.0</td>\n",
              "      <td>0.0</td>\n",
              "      <td>0</td>\n",
              "      <td>0.0</td>\n",
              "      <td>0.0</td>\n",
              "      <td>0.0</td>\n",
              "      <td>0.0</td>\n",
              "      <td>0.0</td>\n",
              "      <td>0.0</td>\n",
              "      <td>0</td>\n",
              "      <td>0</td>\n",
              "      <td>0.0</td>\n",
              "      <td>1</td>\n",
              "      <td>1.0</td>\n",
              "      <td>0.0</td>\n",
              "      <td>1.0</td>\n",
              "      <td>0.0</td>\n",
              "      <td>0</td>\n",
              "      <td>0.0</td>\n",
              "      <td>1.0</td>\n",
              "      <td>0.0</td>\n",
              "      <td>1.0</td>\n",
              "      <td>0</td>\n",
              "      <td>1</td>\n",
              "      <td>0.0</td>\n",
              "      <td>1.0</td>\n",
              "      <td>0</td>\n",
              "      <td>1.0</td>\n",
              "      <td>0.0</td>\n",
              "      <td>0</td>\n",
              "      <td>0</td>\n",
              "      <td>1</td>\n",
              "      <td>0</td>\n",
              "    </tr>\n",
              "    <tr>\n",
              "      <th>3</th>\n",
              "      <td>4135</td>\n",
              "      <td>738.0</td>\n",
              "      <td>127.0</td>\n",
              "      <td>100.0</td>\n",
              "      <td>100.0</td>\n",
              "      <td>90.0</td>\n",
              "      <td>1.0</td>\n",
              "      <td>4.0</td>\n",
              "      <td>0.0</td>\n",
              "      <td>1.0</td>\n",
              "      <td>0.0</td>\n",
              "      <td>0</td>\n",
              "      <td>0.0</td>\n",
              "      <td>1.0</td>\n",
              "      <td>1.0</td>\n",
              "      <td>1</td>\n",
              "      <td>0.0</td>\n",
              "      <td>1.0</td>\n",
              "      <td>0.0</td>\n",
              "      <td>0.0</td>\n",
              "      <td>0.0</td>\n",
              "      <td>0.0</td>\n",
              "      <td>0.0</td>\n",
              "      <td>0.0</td>\n",
              "      <td>0.0</td>\n",
              "      <td>0.0</td>\n",
              "      <td>1</td>\n",
              "      <td>0.0</td>\n",
              "      <td>0.0</td>\n",
              "      <td>0.0</td>\n",
              "      <td>0.0</td>\n",
              "      <td>1.0</td>\n",
              "      <td>0.0</td>\n",
              "      <td>0</td>\n",
              "      <td>0</td>\n",
              "      <td>0.0</td>\n",
              "      <td>0</td>\n",
              "      <td>0.0</td>\n",
              "      <td>0.0</td>\n",
              "      <td>0.0</td>\n",
              "      <td>0.0</td>\n",
              "      <td>0</td>\n",
              "      <td>0.0</td>\n",
              "      <td>0.0</td>\n",
              "      <td>0.0</td>\n",
              "      <td>0.0</td>\n",
              "      <td>0</td>\n",
              "      <td>0</td>\n",
              "      <td>0.0</td>\n",
              "      <td>0.0</td>\n",
              "      <td>0</td>\n",
              "      <td>0.0</td>\n",
              "      <td>0.0</td>\n",
              "      <td>1</td>\n",
              "      <td>0</td>\n",
              "      <td>0</td>\n",
              "      <td>0</td>\n",
              "    </tr>\n",
              "    <tr>\n",
              "      <th>4</th>\n",
              "      <td>723</td>\n",
              "      <td>11055.5</td>\n",
              "      <td>2057.0</td>\n",
              "      <td>92.0</td>\n",
              "      <td>92.0</td>\n",
              "      <td>91.0</td>\n",
              "      <td>35.0</td>\n",
              "      <td>4.0</td>\n",
              "      <td>11.0</td>\n",
              "      <td>18.0</td>\n",
              "      <td>5.0</td>\n",
              "      <td>2</td>\n",
              "      <td>3.0</td>\n",
              "      <td>1.0</td>\n",
              "      <td>1.0</td>\n",
              "      <td>1</td>\n",
              "      <td>1.0</td>\n",
              "      <td>1.0</td>\n",
              "      <td>7.0</td>\n",
              "      <td>1.0</td>\n",
              "      <td>1.0</td>\n",
              "      <td>0.0</td>\n",
              "      <td>1.0</td>\n",
              "      <td>0.0</td>\n",
              "      <td>0.0</td>\n",
              "      <td>1.0</td>\n",
              "      <td>1</td>\n",
              "      <td>4.0</td>\n",
              "      <td>1.0</td>\n",
              "      <td>0.0</td>\n",
              "      <td>0.0</td>\n",
              "      <td>0.0</td>\n",
              "      <td>4.0</td>\n",
              "      <td>0</td>\n",
              "      <td>1</td>\n",
              "      <td>1.0</td>\n",
              "      <td>0</td>\n",
              "      <td>0.0</td>\n",
              "      <td>2.0</td>\n",
              "      <td>1.0</td>\n",
              "      <td>0.0</td>\n",
              "      <td>0</td>\n",
              "      <td>1.0</td>\n",
              "      <td>1.0</td>\n",
              "      <td>1.0</td>\n",
              "      <td>0.0</td>\n",
              "      <td>1</td>\n",
              "      <td>0</td>\n",
              "      <td>0.0</td>\n",
              "      <td>0.0</td>\n",
              "      <td>0</td>\n",
              "      <td>0.0</td>\n",
              "      <td>0.0</td>\n",
              "      <td>0</td>\n",
              "      <td>0</td>\n",
              "      <td>1</td>\n",
              "      <td>0</td>\n",
              "    </tr>\n",
              "  </tbody>\n",
              "</table>\n",
              "</div>"
            ],
            "text/plain": [
              "   Unnamed: 0  ...  RestaurantsPriceRange_3.0\n",
              "0        4153  ...                          0\n",
              "1        2528  ...                          0\n",
              "2        5064  ...                          0\n",
              "3        4135  ...                          0\n",
              "4         723  ...                          0\n",
              "\n",
              "[5 rows x 57 columns]"
            ]
          },
          "metadata": {},
          "execution_count": 42
        }
      ]
    },
    {
      "cell_type": "code",
      "metadata": {
        "id": "SE7vE6F_Gjrk"
      },
      "source": [
        "y_train.drop(columns=['Unnamed: 0'], inplace = True)\n",
        "X_train_scaled.drop(columns=['Unnamed: 0','Score_LG','oldest_score','newest_score','is_open','RestaurantsPriceRange_0.0','Food'], inplace = True)\n",
        "y_test.drop(columns=['Unnamed: 0'], inplace = True)\n",
        "X_test_scaled.drop(columns=['Unnamed: 0','Score_LG','oldest_score','newest_score','is_open','RestaurantsPriceRange_0.0','Food'], inplace = True)"
      ],
      "execution_count": null,
      "outputs": []
    },
    {
      "cell_type": "code",
      "metadata": {
        "id": "MC8Me0-WuB35"
      },
      "source": [
        "from pylab import savefig\n",
        "from sklearn.ensemble import IsolationForest\n",
        "\n",
        "rseed = 9887\n",
        "\n",
        "# training the model\n",
        "iso = IsolationForest(max_samples=100, random_state=rseed)\n",
        "iso.fit(X_train)\n",
        "\n",
        "# predictions\n",
        "y_pred_train = clf.predict(X_train)\n",
        "y_pred_test = clf.predict(X_test)\n",
        "y_pred_outliers = clf.predict(X_outliers)"
      ],
      "execution_count": null,
      "outputs": []
    },
    {
      "cell_type": "code",
      "metadata": {
        "id": "ZWbl5ZJMuB-i"
      },
      "source": [
        ""
      ],
      "execution_count": null,
      "outputs": []
    }
  ]
}