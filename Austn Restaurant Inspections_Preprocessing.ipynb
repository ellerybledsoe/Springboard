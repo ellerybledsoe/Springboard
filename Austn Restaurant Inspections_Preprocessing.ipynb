{
 "cells": [
  {
   "cell_type": "code",
   "execution_count": null,
   "id": "a8ccf1de-cef7-4d16-94f6-7b57486c1c18",
   "metadata": {},
   "outputs": [],
   "source": [
    ">>> sort out reviewS vs review .._count"
   ]
  },
  {
   "cell_type": "code",
   "execution_count": 1,
   "id": "dd8036cb-a92d-4eb2-b6ac-b874b63a9364",
   "metadata": {},
   "outputs": [],
   "source": [
    "import pandas as pd\n",
    "import numpy as np\n",
    "import matplotlib.pyplot as plt\n",
    "import matplotlib.cm as cm\n",
    "%matplotlib inline\n",
    "import seaborn as sns\n",
    "\n",
    "from sklearn.model_selection import train_test_split\n",
    "#import statsmodels as sm\n",
    "import statsmodels.api as sm\n",
    "from sklearn.metrics import (confusion_matrix, accuracy_score)"
   ]
  },
  {
   "cell_type": "code",
   "execution_count": null,
   "id": "3b85ed4d-dfb4-4e0c-98a0-0b8edf5074eb",
   "metadata": {},
   "outputs": [],
   "source": []
  }
 ],
 "metadata": {
  "kernelspec": {
   "display_name": "3.9.6",
   "language": "python",
   "name": "3.9.6"
  },
  "language_info": {
   "codemirror_mode": {
    "name": "ipython",
    "version": 3
   },
   "file_extension": ".py",
   "mimetype": "text/x-python",
   "name": "python",
   "nbconvert_exporter": "python",
   "pygments_lexer": "ipython3",
   "version": "3.9.6"
  }
 },
 "nbformat": 4,
 "nbformat_minor": 5
}
